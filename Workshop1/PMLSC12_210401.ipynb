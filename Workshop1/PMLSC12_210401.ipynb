{
  "nbformat": 4,
  "nbformat_minor": 0,
  "metadata": {
    "colab": {
      "name": "PMLSC12_210401.ipynb",
      "provenance": [],
      "toc_visible": true,
      "include_colab_link": true
    },
    "kernelspec": {
      "name": "python3",
      "display_name": "Python 3"
    },
    "language_info": {
      "name": "python"
    }
  },
  "cells": [
    {
      "cell_type": "markdown",
      "metadata": {
        "id": "view-in-github",
        "colab_type": "text"
      },
      "source": [
        "<a href=\"https://colab.research.google.com/github/farzin23i/PyML-SpringSchool2021/blob/main/Workshop1/PMLSC12_210401.ipynb\" target=\"_parent\"><img src=\"https://colab.research.google.com/assets/colab-badge.svg\" alt=\"Open In Colab\"/></a>"
      ]
    },
    {
      "cell_type": "markdown",
      "metadata": {
        "id": "7MuUQdxreNhl"
      },
      "source": [
        "# Links to see more references"
      ]
    },
    {
      "cell_type": "markdown",
      "metadata": {
        "id": "5wHTreKjBjYe"
      },
      "source": [
        "To have a fast look at pandas and more tools: <br>\n",
        "https://github.com/vafaei-ar/DSWSs/blob/master/S03/notebooks/pandas-intro.ipynb"
      ]
    },
    {
      "cell_type": "markdown",
      "metadata": {
        "id": "9iigTkFQNHVT"
      },
      "source": [
        "Good course on data science with python: (for more on this session's topic you can see the section \"Python for Data Visualization\")<br>\n",
        "Udemy Python for Data Science and Machine Learning Bootcamp <br>\n",
        "https://www.pieriandata.com/p/corporate-training"
      ]
    },
    {
      "cell_type": "markdown",
      "metadata": {
        "id": "Nab-eFEOMWgh"
      },
      "source": [
        "The data-set of world-university-rankings on keggle website:<br>\n",
        "https://www.kaggle.com/mylesoneill/world-university-rankings"
      ]
    },
    {
      "cell_type": "markdown",
      "metadata": {
        "id": "fzOyDP6UdDG-"
      },
      "source": [
        "# Get started with few data-types in python:"
      ]
    },
    {
      "cell_type": "code",
      "metadata": {
        "id": "goo-LleyA2Ok"
      },
      "source": [
        "import numpy as np \n",
        "import pandas as pd"
      ],
      "execution_count": null,
      "outputs": []
    },
    {
      "cell_type": "code",
      "metadata": {
        "id": "dxbGb_FhQOUF",
        "colab": {
          "base_uri": "https://localhost:8080/"
        },
        "outputId": "cd16dced-8ae6-4d0e-85cd-ef4e1d3c1b02"
      },
      "source": [
        "T = (1, 2, 3)\n",
        "type (T)"
      ],
      "execution_count": null,
      "outputs": [
        {
          "output_type": "execute_result",
          "data": {
            "text/plain": [
              "tuple"
            ]
          },
          "metadata": {
            "tags": []
          },
          "execution_count": 2
        }
      ]
    },
    {
      "cell_type": "code",
      "metadata": {
        "colab": {
          "base_uri": "https://localhost:8080/",
          "height": 171
        },
        "id": "g5nx5UKvnI1l",
        "outputId": "ba91d953-3695-46c9-b844-4f38f72f97e3"
      },
      "source": [
        "T[1]= 5"
      ],
      "execution_count": null,
      "outputs": [
        {
          "output_type": "error",
          "ename": "TypeError",
          "evalue": "ignored",
          "traceback": [
            "\u001b[0;31m---------------------------------------------------------------------------\u001b[0m",
            "\u001b[0;31mTypeError\u001b[0m                                 Traceback (most recent call last)",
            "\u001b[0;32m<ipython-input-3-98a4b88fdd20>\u001b[0m in \u001b[0;36m<module>\u001b[0;34m()\u001b[0m\n\u001b[0;32m----> 1\u001b[0;31m \u001b[0mT\u001b[0m\u001b[0;34m[\u001b[0m\u001b[0;36m1\u001b[0m\u001b[0;34m]\u001b[0m\u001b[0;34m=\u001b[0m \u001b[0;36m5\u001b[0m\u001b[0;34m\u001b[0m\u001b[0;34m\u001b[0m\u001b[0m\n\u001b[0m",
            "\u001b[0;31mTypeError\u001b[0m: 'tuple' object does not support item assignment"
          ]
        }
      ]
    },
    {
      "cell_type": "markdown",
      "metadata": {
        "id": "O654Zz8Cnb4n"
      },
      "source": [
        "see; you can't make changes or assign to a tuple. <br>\n",
        "To do these, we can use a list instead:"
      ]
    },
    {
      "cell_type": "code",
      "metadata": {
        "colab": {
          "base_uri": "https://localhost:8080/"
        },
        "id": "PnPR6OrCEGhi",
        "outputId": "a5e4a3bb-642a-4b76-e0cb-4ff6894356e0"
      },
      "source": [
        "L= [1, 2, 3]\n",
        "L[1]= 6\n",
        "type (L)"
      ],
      "execution_count": null,
      "outputs": [
        {
          "output_type": "execute_result",
          "data": {
            "text/plain": [
              "list"
            ]
          },
          "metadata": {
            "tags": []
          },
          "execution_count": 5
        }
      ]
    },
    {
      "cell_type": "markdown",
      "metadata": {
        "id": "leWk60gXn3NR"
      },
      "source": [
        "We can easily append to a list:"
      ]
    },
    {
      "cell_type": "code",
      "metadata": {
        "colab": {
          "base_uri": "https://localhost:8080/"
        },
        "id": "JxP7GCWGEGTj",
        "outputId": "4f021430-1887-4cb6-a629-a38352a37964"
      },
      "source": [
        "L.append (5)\n",
        "L"
      ],
      "execution_count": null,
      "outputs": [
        {
          "output_type": "execute_result",
          "data": {
            "text/plain": [
              "[1, 6, 3, 5]"
            ]
          },
          "metadata": {
            "tags": []
          },
          "execution_count": 6
        }
      ]
    },
    {
      "cell_type": "code",
      "metadata": {
        "colab": {
          "base_uri": "https://localhost:8080/"
        },
        "id": "npwvjjyDEGal",
        "outputId": "1b278bd7-fa8f-46d1-e353-c69abb52a13d"
      },
      "source": [
        "A = np.array([1, 2, 3])\n",
        "type(A)"
      ],
      "execution_count": null,
      "outputs": [
        {
          "output_type": "execute_result",
          "data": {
            "text/plain": [
              "numpy.ndarray"
            ]
          },
          "metadata": {
            "tags": []
          },
          "execution_count": 8
        }
      ]
    },
    {
      "cell_type": "code",
      "metadata": {
        "colab": {
          "base_uri": "https://localhost:8080/",
          "height": 171
        },
        "id": "hjC4R-7pEGNT",
        "outputId": "15b06e94-ca80-44f8-987e-28d214b210da"
      },
      "source": [
        "A.append(5)"
      ],
      "execution_count": null,
      "outputs": [
        {
          "output_type": "error",
          "ename": "AttributeError",
          "evalue": "ignored",
          "traceback": [
            "\u001b[0;31m---------------------------------------------------------------------------\u001b[0m",
            "\u001b[0;31mAttributeError\u001b[0m                            Traceback (most recent call last)",
            "\u001b[0;32m<ipython-input-9-e1f756f60b3e>\u001b[0m in \u001b[0;36m<module>\u001b[0;34m()\u001b[0m\n\u001b[0;32m----> 1\u001b[0;31m \u001b[0mA\u001b[0m\u001b[0;34m.\u001b[0m\u001b[0mappend\u001b[0m\u001b[0;34m(\u001b[0m\u001b[0;36m5\u001b[0m\u001b[0;34m)\u001b[0m\u001b[0;34m\u001b[0m\u001b[0;34m\u001b[0m\u001b[0m\n\u001b[0m",
            "\u001b[0;31mAttributeError\u001b[0m: 'numpy.ndarray' object has no attribute 'append'"
          ]
        }
      ]
    },
    {
      "cell_type": "markdown",
      "metadata": {
        "id": "RtAqHpILoFaq"
      },
      "source": [
        "and as you can see, to append to a numpy array is a little more complex than List:"
      ]
    },
    {
      "cell_type": "code",
      "metadata": {
        "colab": {
          "base_uri": "https://localhost:8080/"
        },
        "id": "tje1OmiFFNHu",
        "outputId": "82f68b8b-7e64-4cc0-e3a1-24acb0a0f575"
      },
      "source": [
        "np.append(A, 5)"
      ],
      "execution_count": null,
      "outputs": [
        {
          "output_type": "execute_result",
          "data": {
            "text/plain": [
              "array([1, 2, 3, 5])"
            ]
          },
          "metadata": {
            "tags": []
          },
          "execution_count": 10
        }
      ]
    },
    {
      "cell_type": "code",
      "metadata": {
        "colab": {
          "base_uri": "https://localhost:8080/"
        },
        "id": "8Gwle58QFNDY",
        "outputId": "2c284664-0f32-4139-ed71-49c6dcd3422b"
      },
      "source": [
        "A1= np.ones ([3,5])\n",
        "A1"
      ],
      "execution_count": null,
      "outputs": [
        {
          "output_type": "execute_result",
          "data": {
            "text/plain": [
              "array([[1., 1., 1., 1., 1.],\n",
              "       [1., 1., 1., 1., 1.],\n",
              "       [1., 1., 1., 1., 1.]])"
            ]
          },
          "metadata": {
            "tags": []
          },
          "execution_count": 11
        }
      ]
    },
    {
      "cell_type": "code",
      "metadata": {
        "colab": {
          "base_uri": "https://localhost:8080/"
        },
        "id": "nEPoxavjGKla",
        "outputId": "c7b7aa99-29d3-4221-feb7-8420852d63fc"
      },
      "source": [
        "# to append to a numpy array without specifying the axis would make it flatten:\n",
        "np.append (A1, 5)"
      ],
      "execution_count": null,
      "outputs": [
        {
          "output_type": "execute_result",
          "data": {
            "text/plain": [
              "array([1., 1., 1., 1., 1., 1., 1., 1., 1., 1., 1., 1., 1., 1., 1., 5.])"
            ]
          },
          "metadata": {
            "tags": []
          },
          "execution_count": 13
        }
      ]
    },
    {
      "cell_type": "code",
      "metadata": {
        "colab": {
          "base_uri": "https://localhost:8080/"
        },
        "id": "vBJWLGupFM-Y",
        "outputId": "d03f34e5-36ac-40b1-e46b-37294f2c4c83"
      },
      "source": [
        "# the regular way to append:\n",
        "np.append(A1, np.array([[5, 5, 5]]).T, axis=1)"
      ],
      "execution_count": null,
      "outputs": [
        {
          "output_type": "execute_result",
          "data": {
            "text/plain": [
              "array([[1., 1., 1., 1., 1., 5.],\n",
              "       [1., 1., 1., 1., 1., 5.],\n",
              "       [1., 1., 1., 1., 1., 5.]])"
            ]
          },
          "metadata": {
            "tags": []
          },
          "execution_count": 14
        }
      ]
    },
    {
      "cell_type": "code",
      "metadata": {
        "colab": {
          "base_uri": "https://localhost:8080/"
        },
        "id": "OSQPgxpsFM4Y",
        "outputId": "90d7f5e1-3f4f-4b0d-ae35-d05ca3c8bb9b"
      },
      "source": [
        "# And here is a Series with pandas:\n",
        "pd.Series([1,2,3])"
      ],
      "execution_count": null,
      "outputs": [
        {
          "output_type": "execute_result",
          "data": {
            "text/plain": [
              "0    1\n",
              "1    2\n",
              "2    3\n",
              "dtype: int64"
            ]
          },
          "metadata": {
            "tags": []
          },
          "execution_count": 15
        }
      ]
    },
    {
      "cell_type": "code",
      "metadata": {
        "colab": {
          "base_uri": "https://localhost:8080/",
          "height": 108
        },
        "id": "IdDUStQ8FMzL",
        "outputId": "6fd10d6c-01ad-4294-c28f-0b8f93dfd16f"
      },
      "source": [
        "# also a DataFrame:\n",
        "pd.DataFrame([[1,2,3], [4,5,6]])"
      ],
      "execution_count": null,
      "outputs": [
        {
          "output_type": "execute_result",
          "data": {
            "text/html": [
              "<div>\n",
              "<style scoped>\n",
              "    .dataframe tbody tr th:only-of-type {\n",
              "        vertical-align: middle;\n",
              "    }\n",
              "\n",
              "    .dataframe tbody tr th {\n",
              "        vertical-align: top;\n",
              "    }\n",
              "\n",
              "    .dataframe thead th {\n",
              "        text-align: right;\n",
              "    }\n",
              "</style>\n",
              "<table border=\"1\" class=\"dataframe\">\n",
              "  <thead>\n",
              "    <tr style=\"text-align: right;\">\n",
              "      <th></th>\n",
              "      <th>0</th>\n",
              "      <th>1</th>\n",
              "      <th>2</th>\n",
              "    </tr>\n",
              "  </thead>\n",
              "  <tbody>\n",
              "    <tr>\n",
              "      <th>0</th>\n",
              "      <td>1</td>\n",
              "      <td>2</td>\n",
              "      <td>3</td>\n",
              "    </tr>\n",
              "    <tr>\n",
              "      <th>1</th>\n",
              "      <td>4</td>\n",
              "      <td>5</td>\n",
              "      <td>6</td>\n",
              "    </tr>\n",
              "  </tbody>\n",
              "</table>\n",
              "</div>"
            ],
            "text/plain": [
              "   0  1  2\n",
              "0  1  2  3\n",
              "1  4  5  6"
            ]
          },
          "metadata": {
            "tags": []
          },
          "execution_count": 16
        }
      ]
    },
    {
      "cell_type": "code",
      "metadata": {
        "colab": {
          "base_uri": "https://localhost:8080/"
        },
        "id": "8IclAveEHxPl",
        "outputId": "bfffe07c-044c-4ebe-caab-abe6baefb72d"
      },
      "source": [
        "z= np.arange (20).reshape ([4,5])\n",
        "z"
      ],
      "execution_count": null,
      "outputs": [
        {
          "output_type": "execute_result",
          "data": {
            "text/plain": [
              "array([[ 0,  1,  2,  3,  4],\n",
              "       [ 5,  6,  7,  8,  9],\n",
              "       [10, 11, 12, 13, 14],\n",
              "       [15, 16, 17, 18, 19]])"
            ]
          },
          "metadata": {
            "tags": []
          },
          "execution_count": 19
        }
      ]
    },
    {
      "cell_type": "code",
      "metadata": {
        "colab": {
          "base_uri": "https://localhost:8080/"
        },
        "id": "L3o4QXWkIIxC",
        "outputId": "5d68e618-64d6-4f85-b50e-35733072e24f"
      },
      "source": [
        "# To specify the indices and columns of a DataFrame in pandas:\n",
        "rows= 'a b c d'.split()\n",
        "cols= 'c1.c2.c3.c4.c5'.split('.')\n",
        "\n",
        "print(rows, '\\n', cols)"
      ],
      "execution_count": null,
      "outputs": [
        {
          "output_type": "stream",
          "text": [
            "['a', 'b', 'c', 'd'] \n",
            " ['c1', 'c2', 'c3', 'c4', 'c5']\n"
          ],
          "name": "stdout"
        }
      ]
    },
    {
      "cell_type": "code",
      "metadata": {
        "colab": {
          "base_uri": "https://localhost:8080/",
          "height": 168
        },
        "id": "vYbOZosMHxKH",
        "outputId": "b5cf1c96-44b0-4895-aff0-0bf674c6f760"
      },
      "source": [
        "df = pd.DataFrame(z, index=rows, columns=cols)\n",
        "df"
      ],
      "execution_count": null,
      "outputs": [
        {
          "output_type": "execute_result",
          "data": {
            "text/html": [
              "<div>\n",
              "<style scoped>\n",
              "    .dataframe tbody tr th:only-of-type {\n",
              "        vertical-align: middle;\n",
              "    }\n",
              "\n",
              "    .dataframe tbody tr th {\n",
              "        vertical-align: top;\n",
              "    }\n",
              "\n",
              "    .dataframe thead th {\n",
              "        text-align: right;\n",
              "    }\n",
              "</style>\n",
              "<table border=\"1\" class=\"dataframe\">\n",
              "  <thead>\n",
              "    <tr style=\"text-align: right;\">\n",
              "      <th></th>\n",
              "      <th>c1</th>\n",
              "      <th>c2</th>\n",
              "      <th>c3</th>\n",
              "      <th>c4</th>\n",
              "      <th>c5</th>\n",
              "    </tr>\n",
              "  </thead>\n",
              "  <tbody>\n",
              "    <tr>\n",
              "      <th>a</th>\n",
              "      <td>0</td>\n",
              "      <td>1</td>\n",
              "      <td>2</td>\n",
              "      <td>3</td>\n",
              "      <td>4</td>\n",
              "    </tr>\n",
              "    <tr>\n",
              "      <th>b</th>\n",
              "      <td>5</td>\n",
              "      <td>6</td>\n",
              "      <td>7</td>\n",
              "      <td>8</td>\n",
              "      <td>9</td>\n",
              "    </tr>\n",
              "    <tr>\n",
              "      <th>c</th>\n",
              "      <td>10</td>\n",
              "      <td>11</td>\n",
              "      <td>12</td>\n",
              "      <td>13</td>\n",
              "      <td>14</td>\n",
              "    </tr>\n",
              "    <tr>\n",
              "      <th>d</th>\n",
              "      <td>15</td>\n",
              "      <td>16</td>\n",
              "      <td>17</td>\n",
              "      <td>18</td>\n",
              "      <td>19</td>\n",
              "    </tr>\n",
              "  </tbody>\n",
              "</table>\n",
              "</div>"
            ],
            "text/plain": [
              "   c1  c2  c3  c4  c5\n",
              "a   0   1   2   3   4\n",
              "b   5   6   7   8   9\n",
              "c  10  11  12  13  14\n",
              "d  15  16  17  18  19"
            ]
          },
          "metadata": {
            "tags": []
          },
          "execution_count": 21
        }
      ]
    },
    {
      "cell_type": "code",
      "metadata": {
        "colab": {
          "base_uri": "https://localhost:8080/"
        },
        "id": "BS-48c49HxFq",
        "outputId": "9b86ae46-b4a3-444b-8d3f-c762e6b4ac46"
      },
      "source": [
        "# Each column in a DataFrame is a pandas Series. to call a column:\n",
        "df['c1']"
      ],
      "execution_count": null,
      "outputs": [
        {
          "output_type": "execute_result",
          "data": {
            "text/plain": [
              "a     0\n",
              "b     5\n",
              "c    10\n",
              "d    15\n",
              "Name: c1, dtype: int64"
            ]
          },
          "metadata": {
            "tags": []
          },
          "execution_count": 22
        }
      ]
    },
    {
      "cell_type": "code",
      "metadata": {
        "colab": {
          "base_uri": "https://localhost:8080/"
        },
        "id": "ATXusT9MHw-9",
        "outputId": "5a939b8c-5e6d-4d7a-8e4c-501f104b8aef"
      },
      "source": [
        "# also for each row:\n",
        "df.loc['b']"
      ],
      "execution_count": null,
      "outputs": [
        {
          "output_type": "execute_result",
          "data": {
            "text/plain": [
              "c1    5\n",
              "c2    6\n",
              "c3    7\n",
              "c4    8\n",
              "c5    9\n",
              "Name: b, dtype: int64"
            ]
          },
          "metadata": {
            "tags": []
          },
          "execution_count": 23
        }
      ]
    },
    {
      "cell_type": "code",
      "metadata": {
        "colab": {
          "base_uri": "https://localhost:8080/",
          "height": 168
        },
        "id": "D0gFJwcfJVS_",
        "outputId": "8efc3764-be2d-4f5e-d36f-e5e1a07d56a1"
      },
      "source": [
        "# We can easily add column to a DataFrame:\n",
        "df['cnew'] = df['c1']*df['c2']\n",
        "df"
      ],
      "execution_count": null,
      "outputs": [
        {
          "output_type": "execute_result",
          "data": {
            "text/html": [
              "<div>\n",
              "<style scoped>\n",
              "    .dataframe tbody tr th:only-of-type {\n",
              "        vertical-align: middle;\n",
              "    }\n",
              "\n",
              "    .dataframe tbody tr th {\n",
              "        vertical-align: top;\n",
              "    }\n",
              "\n",
              "    .dataframe thead th {\n",
              "        text-align: right;\n",
              "    }\n",
              "</style>\n",
              "<table border=\"1\" class=\"dataframe\">\n",
              "  <thead>\n",
              "    <tr style=\"text-align: right;\">\n",
              "      <th></th>\n",
              "      <th>c1</th>\n",
              "      <th>c2</th>\n",
              "      <th>c3</th>\n",
              "      <th>c4</th>\n",
              "      <th>c5</th>\n",
              "      <th>cnew</th>\n",
              "    </tr>\n",
              "  </thead>\n",
              "  <tbody>\n",
              "    <tr>\n",
              "      <th>a</th>\n",
              "      <td>0</td>\n",
              "      <td>1</td>\n",
              "      <td>2</td>\n",
              "      <td>3</td>\n",
              "      <td>4</td>\n",
              "      <td>0</td>\n",
              "    </tr>\n",
              "    <tr>\n",
              "      <th>b</th>\n",
              "      <td>5</td>\n",
              "      <td>6</td>\n",
              "      <td>7</td>\n",
              "      <td>8</td>\n",
              "      <td>9</td>\n",
              "      <td>30</td>\n",
              "    </tr>\n",
              "    <tr>\n",
              "      <th>c</th>\n",
              "      <td>10</td>\n",
              "      <td>11</td>\n",
              "      <td>12</td>\n",
              "      <td>13</td>\n",
              "      <td>14</td>\n",
              "      <td>110</td>\n",
              "    </tr>\n",
              "    <tr>\n",
              "      <th>d</th>\n",
              "      <td>15</td>\n",
              "      <td>16</td>\n",
              "      <td>17</td>\n",
              "      <td>18</td>\n",
              "      <td>19</td>\n",
              "      <td>240</td>\n",
              "    </tr>\n",
              "  </tbody>\n",
              "</table>\n",
              "</div>"
            ],
            "text/plain": [
              "   c1  c2  c3  c4  c5  cnew\n",
              "a   0   1   2   3   4     0\n",
              "b   5   6   7   8   9    30\n",
              "c  10  11  12  13  14   110\n",
              "d  15  16  17  18  19   240"
            ]
          },
          "metadata": {
            "tags": []
          },
          "execution_count": 24
        }
      ]
    },
    {
      "cell_type": "code",
      "metadata": {
        "id": "zsDPyg6LJVLS"
      },
      "source": [
        "# or drop a column:\n",
        "df.drop ('c1', axis=1, inplace=True)"
      ],
      "execution_count": null,
      "outputs": []
    },
    {
      "cell_type": "markdown",
      "metadata": {
        "id": "R6wvKCCVqjVV"
      },
      "source": [
        "Let's try few more tools of pandas:"
      ]
    },
    {
      "cell_type": "code",
      "metadata": {
        "colab": {
          "base_uri": "https://localhost:8080/",
          "height": 168
        },
        "id": "THYTxZ7UqozB",
        "outputId": "e31535b5-9eb1-4e6a-8cb4-c2f27ffd8fa6"
      },
      "source": [
        "df>7"
      ],
      "execution_count": null,
      "outputs": [
        {
          "output_type": "execute_result",
          "data": {
            "text/html": [
              "<div>\n",
              "<style scoped>\n",
              "    .dataframe tbody tr th:only-of-type {\n",
              "        vertical-align: middle;\n",
              "    }\n",
              "\n",
              "    .dataframe tbody tr th {\n",
              "        vertical-align: top;\n",
              "    }\n",
              "\n",
              "    .dataframe thead th {\n",
              "        text-align: right;\n",
              "    }\n",
              "</style>\n",
              "<table border=\"1\" class=\"dataframe\">\n",
              "  <thead>\n",
              "    <tr style=\"text-align: right;\">\n",
              "      <th></th>\n",
              "      <th>c2</th>\n",
              "      <th>c3</th>\n",
              "      <th>c4</th>\n",
              "      <th>c5</th>\n",
              "      <th>cnew</th>\n",
              "    </tr>\n",
              "  </thead>\n",
              "  <tbody>\n",
              "    <tr>\n",
              "      <th>a</th>\n",
              "      <td>False</td>\n",
              "      <td>False</td>\n",
              "      <td>False</td>\n",
              "      <td>False</td>\n",
              "      <td>False</td>\n",
              "    </tr>\n",
              "    <tr>\n",
              "      <th>b</th>\n",
              "      <td>False</td>\n",
              "      <td>False</td>\n",
              "      <td>True</td>\n",
              "      <td>True</td>\n",
              "      <td>True</td>\n",
              "    </tr>\n",
              "    <tr>\n",
              "      <th>c</th>\n",
              "      <td>True</td>\n",
              "      <td>True</td>\n",
              "      <td>True</td>\n",
              "      <td>True</td>\n",
              "      <td>True</td>\n",
              "    </tr>\n",
              "    <tr>\n",
              "      <th>d</th>\n",
              "      <td>True</td>\n",
              "      <td>True</td>\n",
              "      <td>True</td>\n",
              "      <td>True</td>\n",
              "      <td>True</td>\n",
              "    </tr>\n",
              "  </tbody>\n",
              "</table>\n",
              "</div>"
            ],
            "text/plain": [
              "      c2     c3     c4     c5   cnew\n",
              "a  False  False  False  False  False\n",
              "b  False  False   True   True   True\n",
              "c   True   True   True   True   True\n",
              "d   True   True   True   True   True"
            ]
          },
          "metadata": {
            "tags": []
          },
          "execution_count": 27
        }
      ]
    },
    {
      "cell_type": "code",
      "metadata": {
        "colab": {
          "base_uri": "https://localhost:8080/",
          "height": 168
        },
        "id": "_ZUDbCSXJVB8",
        "outputId": "6d157ef9-d0f5-46e4-8fae-dfb34e9e211d"
      },
      "source": [
        "dfn = df[df>7]\n",
        "dfn"
      ],
      "execution_count": null,
      "outputs": [
        {
          "output_type": "execute_result",
          "data": {
            "text/html": [
              "<div>\n",
              "<style scoped>\n",
              "    .dataframe tbody tr th:only-of-type {\n",
              "        vertical-align: middle;\n",
              "    }\n",
              "\n",
              "    .dataframe tbody tr th {\n",
              "        vertical-align: top;\n",
              "    }\n",
              "\n",
              "    .dataframe thead th {\n",
              "        text-align: right;\n",
              "    }\n",
              "</style>\n",
              "<table border=\"1\" class=\"dataframe\">\n",
              "  <thead>\n",
              "    <tr style=\"text-align: right;\">\n",
              "      <th></th>\n",
              "      <th>c2</th>\n",
              "      <th>c3</th>\n",
              "      <th>c4</th>\n",
              "      <th>c5</th>\n",
              "      <th>cnew</th>\n",
              "    </tr>\n",
              "  </thead>\n",
              "  <tbody>\n",
              "    <tr>\n",
              "      <th>a</th>\n",
              "      <td>NaN</td>\n",
              "      <td>NaN</td>\n",
              "      <td>NaN</td>\n",
              "      <td>NaN</td>\n",
              "      <td>NaN</td>\n",
              "    </tr>\n",
              "    <tr>\n",
              "      <th>b</th>\n",
              "      <td>NaN</td>\n",
              "      <td>NaN</td>\n",
              "      <td>8.0</td>\n",
              "      <td>9.0</td>\n",
              "      <td>30.0</td>\n",
              "    </tr>\n",
              "    <tr>\n",
              "      <th>c</th>\n",
              "      <td>11.0</td>\n",
              "      <td>12.0</td>\n",
              "      <td>13.0</td>\n",
              "      <td>14.0</td>\n",
              "      <td>110.0</td>\n",
              "    </tr>\n",
              "    <tr>\n",
              "      <th>d</th>\n",
              "      <td>16.0</td>\n",
              "      <td>17.0</td>\n",
              "      <td>18.0</td>\n",
              "      <td>19.0</td>\n",
              "      <td>240.0</td>\n",
              "    </tr>\n",
              "  </tbody>\n",
              "</table>\n",
              "</div>"
            ],
            "text/plain": [
              "     c2    c3    c4    c5   cnew\n",
              "a   NaN   NaN   NaN   NaN    NaN\n",
              "b   NaN   NaN   8.0   9.0   30.0\n",
              "c  11.0  12.0  13.0  14.0  110.0\n",
              "d  16.0  17.0  18.0  19.0  240.0"
            ]
          },
          "metadata": {
            "tags": []
          },
          "execution_count": 26
        }
      ]
    },
    {
      "cell_type": "code",
      "metadata": {
        "colab": {
          "base_uri": "https://localhost:8080/",
          "height": 108
        },
        "id": "EqYx2A1qJU9P",
        "outputId": "e9956527-5473-41e4-b91d-4d66cc00b4fb"
      },
      "source": [
        "# to deal with NaN:\n",
        "dfn.dropna()"
      ],
      "execution_count": null,
      "outputs": [
        {
          "output_type": "execute_result",
          "data": {
            "text/html": [
              "<div>\n",
              "<style scoped>\n",
              "    .dataframe tbody tr th:only-of-type {\n",
              "        vertical-align: middle;\n",
              "    }\n",
              "\n",
              "    .dataframe tbody tr th {\n",
              "        vertical-align: top;\n",
              "    }\n",
              "\n",
              "    .dataframe thead th {\n",
              "        text-align: right;\n",
              "    }\n",
              "</style>\n",
              "<table border=\"1\" class=\"dataframe\">\n",
              "  <thead>\n",
              "    <tr style=\"text-align: right;\">\n",
              "      <th></th>\n",
              "      <th>c2</th>\n",
              "      <th>c3</th>\n",
              "      <th>c4</th>\n",
              "      <th>c5</th>\n",
              "      <th>cnew</th>\n",
              "    </tr>\n",
              "  </thead>\n",
              "  <tbody>\n",
              "    <tr>\n",
              "      <th>c</th>\n",
              "      <td>11.0</td>\n",
              "      <td>12.0</td>\n",
              "      <td>13.0</td>\n",
              "      <td>14.0</td>\n",
              "      <td>110.0</td>\n",
              "    </tr>\n",
              "    <tr>\n",
              "      <th>d</th>\n",
              "      <td>16.0</td>\n",
              "      <td>17.0</td>\n",
              "      <td>18.0</td>\n",
              "      <td>19.0</td>\n",
              "      <td>240.0</td>\n",
              "    </tr>\n",
              "  </tbody>\n",
              "</table>\n",
              "</div>"
            ],
            "text/plain": [
              "     c2    c3    c4    c5   cnew\n",
              "c  11.0  12.0  13.0  14.0  110.0\n",
              "d  16.0  17.0  18.0  19.0  240.0"
            ]
          },
          "metadata": {
            "tags": []
          },
          "execution_count": 28
        }
      ]
    },
    {
      "cell_type": "code",
      "metadata": {
        "colab": {
          "base_uri": "https://localhost:8080/",
          "height": 168
        },
        "id": "ENOvwCVPJUSB",
        "outputId": "b051dc71-923a-4a2f-aad1-a702b5e3b6a8"
      },
      "source": [
        "dfn.fillna(5)"
      ],
      "execution_count": null,
      "outputs": [
        {
          "output_type": "execute_result",
          "data": {
            "text/html": [
              "<div>\n",
              "<style scoped>\n",
              "    .dataframe tbody tr th:only-of-type {\n",
              "        vertical-align: middle;\n",
              "    }\n",
              "\n",
              "    .dataframe tbody tr th {\n",
              "        vertical-align: top;\n",
              "    }\n",
              "\n",
              "    .dataframe thead th {\n",
              "        text-align: right;\n",
              "    }\n",
              "</style>\n",
              "<table border=\"1\" class=\"dataframe\">\n",
              "  <thead>\n",
              "    <tr style=\"text-align: right;\">\n",
              "      <th></th>\n",
              "      <th>c2</th>\n",
              "      <th>c3</th>\n",
              "      <th>c4</th>\n",
              "      <th>c5</th>\n",
              "      <th>cnew</th>\n",
              "    </tr>\n",
              "  </thead>\n",
              "  <tbody>\n",
              "    <tr>\n",
              "      <th>a</th>\n",
              "      <td>5.0</td>\n",
              "      <td>5.0</td>\n",
              "      <td>5.0</td>\n",
              "      <td>5.0</td>\n",
              "      <td>5.0</td>\n",
              "    </tr>\n",
              "    <tr>\n",
              "      <th>b</th>\n",
              "      <td>5.0</td>\n",
              "      <td>5.0</td>\n",
              "      <td>8.0</td>\n",
              "      <td>9.0</td>\n",
              "      <td>30.0</td>\n",
              "    </tr>\n",
              "    <tr>\n",
              "      <th>c</th>\n",
              "      <td>11.0</td>\n",
              "      <td>12.0</td>\n",
              "      <td>13.0</td>\n",
              "      <td>14.0</td>\n",
              "      <td>110.0</td>\n",
              "    </tr>\n",
              "    <tr>\n",
              "      <th>d</th>\n",
              "      <td>16.0</td>\n",
              "      <td>17.0</td>\n",
              "      <td>18.0</td>\n",
              "      <td>19.0</td>\n",
              "      <td>240.0</td>\n",
              "    </tr>\n",
              "  </tbody>\n",
              "</table>\n",
              "</div>"
            ],
            "text/plain": [
              "     c2    c3    c4    c5   cnew\n",
              "a   5.0   5.0   5.0   5.0    5.0\n",
              "b   5.0   5.0   8.0   9.0   30.0\n",
              "c  11.0  12.0  13.0  14.0  110.0\n",
              "d  16.0  17.0  18.0  19.0  240.0"
            ]
          },
          "metadata": {
            "tags": []
          },
          "execution_count": 29
        }
      ]
    },
    {
      "cell_type": "markdown",
      "metadata": {
        "id": "vAY03uTZrUpu"
      },
      "source": [
        "to connect google drive and save a csv fileL"
      ]
    },
    {
      "cell_type": "code",
      "metadata": {
        "colab": {
          "base_uri": "https://localhost:8080/"
        },
        "id": "X4n0FQKqrKKV",
        "outputId": "f7fefd53-30f0-463d-8f61-b3e824b3753d"
      },
      "source": [
        "from google.colab import drive\n",
        "drive.mount('/content/drive')"
      ],
      "execution_count": null,
      "outputs": [
        {
          "output_type": "stream",
          "text": [
            "Mounted at /content/drive\n"
          ],
          "name": "stdout"
        }
      ]
    },
    {
      "cell_type": "code",
      "metadata": {
        "colab": {
          "base_uri": "https://localhost:8080/"
        },
        "id": "0oWgPnS2Lj0Y",
        "outputId": "fab40ba4-0f9f-40c0-fcc4-f874d0303d81"
      },
      "source": [
        "cd '/content/drive/MyDrive/PYMLSpringSchool'"
      ],
      "execution_count": null,
      "outputs": [
        {
          "output_type": "stream",
          "text": [
            "/content/drive/MyDrive/PYMLSpringSchool\n"
          ],
          "name": "stdout"
        }
      ]
    },
    {
      "cell_type": "code",
      "metadata": {
        "id": "63LFwg7HNWyS"
      },
      "source": [
        "dfn.index.name= 'ind'"
      ],
      "execution_count": null,
      "outputs": []
    },
    {
      "cell_type": "code",
      "metadata": {
        "colab": {
          "base_uri": "https://localhost:8080/",
          "height": 198
        },
        "id": "wPpbszULrhA2",
        "outputId": "d3320e48-b42a-4d2e-d439-138a23803e79"
      },
      "source": [
        "dfn"
      ],
      "execution_count": null,
      "outputs": [
        {
          "output_type": "execute_result",
          "data": {
            "text/html": [
              "<div>\n",
              "<style scoped>\n",
              "    .dataframe tbody tr th:only-of-type {\n",
              "        vertical-align: middle;\n",
              "    }\n",
              "\n",
              "    .dataframe tbody tr th {\n",
              "        vertical-align: top;\n",
              "    }\n",
              "\n",
              "    .dataframe thead th {\n",
              "        text-align: right;\n",
              "    }\n",
              "</style>\n",
              "<table border=\"1\" class=\"dataframe\">\n",
              "  <thead>\n",
              "    <tr style=\"text-align: right;\">\n",
              "      <th></th>\n",
              "      <th>c2</th>\n",
              "      <th>c3</th>\n",
              "      <th>c4</th>\n",
              "      <th>c5</th>\n",
              "      <th>cnew</th>\n",
              "    </tr>\n",
              "    <tr>\n",
              "      <th>ind</th>\n",
              "      <th></th>\n",
              "      <th></th>\n",
              "      <th></th>\n",
              "      <th></th>\n",
              "      <th></th>\n",
              "    </tr>\n",
              "  </thead>\n",
              "  <tbody>\n",
              "    <tr>\n",
              "      <th>a</th>\n",
              "      <td>NaN</td>\n",
              "      <td>NaN</td>\n",
              "      <td>NaN</td>\n",
              "      <td>NaN</td>\n",
              "      <td>NaN</td>\n",
              "    </tr>\n",
              "    <tr>\n",
              "      <th>b</th>\n",
              "      <td>NaN</td>\n",
              "      <td>NaN</td>\n",
              "      <td>8.0</td>\n",
              "      <td>9.0</td>\n",
              "      <td>30.0</td>\n",
              "    </tr>\n",
              "    <tr>\n",
              "      <th>c</th>\n",
              "      <td>11.0</td>\n",
              "      <td>12.0</td>\n",
              "      <td>13.0</td>\n",
              "      <td>14.0</td>\n",
              "      <td>110.0</td>\n",
              "    </tr>\n",
              "    <tr>\n",
              "      <th>d</th>\n",
              "      <td>16.0</td>\n",
              "      <td>17.0</td>\n",
              "      <td>18.0</td>\n",
              "      <td>19.0</td>\n",
              "      <td>240.0</td>\n",
              "    </tr>\n",
              "  </tbody>\n",
              "</table>\n",
              "</div>"
            ],
            "text/plain": [
              "       c2    c3    c4    c5   cnew\n",
              "ind                               \n",
              "a     NaN   NaN   NaN   NaN    NaN\n",
              "b     NaN   NaN   8.0   9.0   30.0\n",
              "c    11.0  12.0  13.0  14.0  110.0\n",
              "d    16.0  17.0  18.0  19.0  240.0"
            ]
          },
          "metadata": {
            "tags": []
          },
          "execution_count": 33
        }
      ]
    },
    {
      "cell_type": "code",
      "metadata": {
        "id": "KawbHmFULjv8"
      },
      "source": [
        "dfn.to_csv('df_nes.csv')"
      ],
      "execution_count": null,
      "outputs": []
    },
    {
      "cell_type": "code",
      "metadata": {
        "colab": {
          "base_uri": "https://localhost:8080/",
          "height": 198
        },
        "id": "_JoupEi3Ljqo",
        "outputId": "8874b547-0505-49fd-af31-ea3134f92bcf"
      },
      "source": [
        "pd.read_csv('/content/drive/MyDrive/PYMLSpringSchool/df_nes.csv', index_col='ind')"
      ],
      "execution_count": null,
      "outputs": [
        {
          "output_type": "execute_result",
          "data": {
            "text/html": [
              "<div>\n",
              "<style scoped>\n",
              "    .dataframe tbody tr th:only-of-type {\n",
              "        vertical-align: middle;\n",
              "    }\n",
              "\n",
              "    .dataframe tbody tr th {\n",
              "        vertical-align: top;\n",
              "    }\n",
              "\n",
              "    .dataframe thead th {\n",
              "        text-align: right;\n",
              "    }\n",
              "</style>\n",
              "<table border=\"1\" class=\"dataframe\">\n",
              "  <thead>\n",
              "    <tr style=\"text-align: right;\">\n",
              "      <th></th>\n",
              "      <th>c2</th>\n",
              "      <th>c3</th>\n",
              "      <th>c4</th>\n",
              "      <th>c5</th>\n",
              "      <th>cnew</th>\n",
              "    </tr>\n",
              "    <tr>\n",
              "      <th>ind</th>\n",
              "      <th></th>\n",
              "      <th></th>\n",
              "      <th></th>\n",
              "      <th></th>\n",
              "      <th></th>\n",
              "    </tr>\n",
              "  </thead>\n",
              "  <tbody>\n",
              "    <tr>\n",
              "      <th>a</th>\n",
              "      <td>NaN</td>\n",
              "      <td>NaN</td>\n",
              "      <td>NaN</td>\n",
              "      <td>NaN</td>\n",
              "      <td>NaN</td>\n",
              "    </tr>\n",
              "    <tr>\n",
              "      <th>b</th>\n",
              "      <td>NaN</td>\n",
              "      <td>NaN</td>\n",
              "      <td>8.0</td>\n",
              "      <td>9.0</td>\n",
              "      <td>30.0</td>\n",
              "    </tr>\n",
              "    <tr>\n",
              "      <th>c</th>\n",
              "      <td>11.0</td>\n",
              "      <td>12.0</td>\n",
              "      <td>13.0</td>\n",
              "      <td>14.0</td>\n",
              "      <td>110.0</td>\n",
              "    </tr>\n",
              "    <tr>\n",
              "      <th>d</th>\n",
              "      <td>16.0</td>\n",
              "      <td>17.0</td>\n",
              "      <td>18.0</td>\n",
              "      <td>19.0</td>\n",
              "      <td>240.0</td>\n",
              "    </tr>\n",
              "  </tbody>\n",
              "</table>\n",
              "</div>"
            ],
            "text/plain": [
              "       c2    c3    c4    c5   cnew\n",
              "ind                               \n",
              "a     NaN   NaN   NaN   NaN    NaN\n",
              "b     NaN   NaN   8.0   9.0   30.0\n",
              "c    11.0  12.0  13.0  14.0  110.0\n",
              "d    16.0  17.0  18.0  19.0  240.0"
            ]
          },
          "metadata": {
            "tags": []
          },
          "execution_count": 35
        }
      ]
    },
    {
      "cell_type": "markdown",
      "metadata": {
        "id": "ZIBtqs75Bopz"
      },
      "source": [
        "# Our last projectile and let's make csv files of its data"
      ]
    },
    {
      "cell_type": "code",
      "metadata": {
        "id": "z_aXnTcDexvD"
      },
      "source": [
        "import pylab as plt \n",
        "from numpy import sin, cos, pi"
      ],
      "execution_count": null,
      "outputs": []
    },
    {
      "cell_type": "code",
      "metadata": {
        "id": "WlAOZ5vv99VV"
      },
      "source": [
        "# Initialize some variables \n",
        "g= 10\n",
        "v0 = 5\n",
        "theta0 = pi/6\n",
        "x0 = 1\n",
        "y0 = 5"
      ],
      "execution_count": null,
      "outputs": []
    },
    {
      "cell_type": "code",
      "metadata": {
        "id": "kk4lU2Spogu1"
      },
      "source": [
        "# For using the normal distibution for our random winds, we need a bag of them. \n",
        "# Remember the example of 90 blue and 10 red balls in a bag. in each choice the probability of being blue is 0.9\n",
        "wind_bank = np.random.normal (loc=2, scale=1, size= 1000)\n",
        "\n",
        "# For fixing the 2nd problem we change the strategy. Our function will return the velocities in each step, instead of Coordinates. \n",
        "dt = 0.1\n",
        "def vel_windy (n, theta):\n",
        "    t = 0 + n*dt\n",
        "    dX_out = v0*cos(theta)*dt \n",
        "    dY_out = -g*t*dt + v0*sin(theta)*dt\n",
        "    return [dX_out, dY_out] + np.array([0.8, 0.05])*np.random.choice (wind_bank, 2)"
      ],
      "execution_count": null,
      "outputs": []
    },
    {
      "cell_type": "markdown",
      "metadata": {
        "id": "g1Hk3IVar5EJ"
      },
      "source": [
        "what are dictionaries in python:"
      ]
    },
    {
      "cell_type": "code",
      "metadata": {
        "colab": {
          "base_uri": "https://localhost:8080/"
        },
        "id": "Rd-Rp6QDOPSe",
        "outputId": "a8c42476-018f-4b19-8c5d-270b58bad42d"
      },
      "source": [
        "D= {'a':5, 'b':6}\n",
        "type (D)"
      ],
      "execution_count": null,
      "outputs": [
        {
          "output_type": "execute_result",
          "data": {
            "text/plain": [
              "dict"
            ]
          },
          "metadata": {
            "tags": []
          },
          "execution_count": 39
        }
      ]
    },
    {
      "cell_type": "code",
      "metadata": {
        "colab": {
          "base_uri": "https://localhost:8080/"
        },
        "id": "wYYhfejrsc_-",
        "outputId": "87f6ac2f-ac97-4fd4-983d-dff5b1d9a809"
      },
      "source": [
        "print(D.keys(), D.values())"
      ],
      "execution_count": null,
      "outputs": [
        {
          "output_type": "stream",
          "text": [
            "dict_keys(['a', 'b']) dict_values([5, 6])\n"
          ],
          "name": "stdout"
        }
      ]
    },
    {
      "cell_type": "code",
      "metadata": {
        "colab": {
          "base_uri": "https://localhost:8080/"
        },
        "id": "qLmjBJDpOkl0",
        "outputId": "fe47a03d-fc27-4140-9e4d-c63f482c6093"
      },
      "source": [
        "D['a']"
      ],
      "execution_count": null,
      "outputs": [
        {
          "output_type": "execute_result",
          "data": {
            "text/plain": [
              "5"
            ]
          },
          "metadata": {
            "tags": []
          },
          "execution_count": 93
        }
      ]
    },
    {
      "cell_type": "code",
      "metadata": {
        "colab": {
          "base_uri": "https://localhost:8080/"
        },
        "id": "1gYk3y5GOozN",
        "outputId": "8e7a0341-22a3-49aa-f373-5aa6e0fa2047"
      },
      "source": [
        "# add new entry to a dict:\n",
        "D['d']= [7, 8]\n",
        "D"
      ],
      "execution_count": null,
      "outputs": [
        {
          "output_type": "execute_result",
          "data": {
            "text/plain": [
              "{'a': 5, 'b': 6, 'd': [7, 8]}"
            ]
          },
          "metadata": {
            "tags": []
          },
          "execution_count": 42
        }
      ]
    },
    {
      "cell_type": "code",
      "metadata": {
        "colab": {
          "base_uri": "https://localhost:8080/",
          "height": 337
        },
        "id": "OrnHP3y8MUnq",
        "outputId": "6add52ae-9fb5-4998-d755-6add1dd3e2b8"
      },
      "source": [
        "# We will take advantages of dictionaries and make DataFrame with them:\n",
        "XX, YY = {}, {}\n",
        "\n",
        "thetas = [pi/3, pi/4, pi/6, pi/8]\n",
        "for i, thet in enumerate (thetas):\n",
        "    X_w= [x0]\n",
        "    Y_w= [y0]\n",
        "    n = 0  \n",
        "    while Y_w[-1]>0:\n",
        "        x= vel_windy (n, theta=theta0)[0] + X_w[-1]\n",
        "        y= vel_windy (n, theta=theta0)[1] + Y_w[-1]\n",
        "        X_w.append (x)\n",
        "        Y_w.append (y)\n",
        "        n += 1\n",
        "    XX[thet], YY[thet] = X_w, Y_w\n",
        "    \n",
        "    plt.plot (X_w, Y_w, )\n",
        "    print (len (X_w))"
      ],
      "execution_count": null,
      "outputs": [
        {
          "output_type": "stream",
          "text": [
            "16\n",
            "16\n",
            "16\n",
            "16\n"
          ],
          "name": "stdout"
        },
        {
          "output_type": "display_data",
          "data": {
            "image/png": "[encoded data removed]",
            "text/plain": [
              "<Figure size 432x288 with 1 Axes>"
            ]
          },
          "metadata": {
            "tags": [],
            "needs_background": "light"
          }
        }
      ]
    },
    {
      "cell_type": "code",
      "metadata": {
        "colab": {
          "base_uri": "https://localhost:8080/"
        },
        "id": "2L91HFhuPcAh",
        "outputId": "62a768bd-3964-4af6-81f1-602f6b2230bb"
      },
      "source": [
        "XX.keys()"
      ],
      "execution_count": null,
      "outputs": [
        {
          "output_type": "execute_result",
          "data": {
            "text/plain": [
              "dict_keys([1.0471975511965976, 0.7853981633974483, 0.5235987755982988, 0.39269908169872414])"
            ]
          },
          "metadata": {
            "tags": []
          },
          "execution_count": 44
        }
      ]
    },
    {
      "cell_type": "code",
      "metadata": {
        "colab": {
          "base_uri": "https://localhost:8080/",
          "height": 528
        },
        "id": "Gkp0vDZoGWu8",
        "outputId": "4a519bb6-d683-46b4-ce17-88cbacb60c66"
      },
      "source": [
        "df_x = pd.DataFrame (XX)\n",
        "df_y = pd.DataFrame (YY)\n",
        "\n",
        "df_y"
      ],
      "execution_count": null,
      "outputs": [
        {
          "output_type": "execute_result",
          "data": {
            "text/html": [
              "<div>\n",
              "<style scoped>\n",
              "    .dataframe tbody tr th:only-of-type {\n",
              "        vertical-align: middle;\n",
              "    }\n",
              "\n",
              "    .dataframe tbody tr th {\n",
              "        vertical-align: top;\n",
              "    }\n",
              "\n",
              "    .dataframe thead th {\n",
              "        text-align: right;\n",
              "    }\n",
              "</style>\n",
              "<table border=\"1\" class=\"dataframe\">\n",
              "  <thead>\n",
              "    <tr style=\"text-align: right;\">\n",
              "      <th></th>\n",
              "      <th>1.047198</th>\n",
              "      <th>0.785398</th>\n",
              "      <th>0.523599</th>\n",
              "      <th>0.392699</th>\n",
              "    </tr>\n",
              "  </thead>\n",
              "  <tbody>\n",
              "    <tr>\n",
              "      <th>0</th>\n",
              "      <td>5.000000</td>\n",
              "      <td>5.000000</td>\n",
              "      <td>5.000000</td>\n",
              "      <td>5.000000</td>\n",
              "    </tr>\n",
              "    <tr>\n",
              "      <th>1</th>\n",
              "      <td>5.313335</td>\n",
              "      <td>5.414112</td>\n",
              "      <td>5.295445</td>\n",
              "      <td>5.408066</td>\n",
              "    </tr>\n",
              "    <tr>\n",
              "      <th>2</th>\n",
              "      <td>5.640229</td>\n",
              "      <td>5.610157</td>\n",
              "      <td>5.541355</td>\n",
              "      <td>5.729635</td>\n",
              "    </tr>\n",
              "    <tr>\n",
              "      <th>3</th>\n",
              "      <td>5.818422</td>\n",
              "      <td>5.830978</td>\n",
              "      <td>5.607098</td>\n",
              "      <td>5.822510</td>\n",
              "    </tr>\n",
              "    <tr>\n",
              "      <th>4</th>\n",
              "      <td>5.872012</td>\n",
              "      <td>5.803582</td>\n",
              "      <td>5.609214</td>\n",
              "      <td>5.921003</td>\n",
              "    </tr>\n",
              "    <tr>\n",
              "      <th>5</th>\n",
              "      <td>5.770749</td>\n",
              "      <td>5.815565</td>\n",
              "      <td>5.604068</td>\n",
              "      <td>5.865888</td>\n",
              "    </tr>\n",
              "    <tr>\n",
              "      <th>6</th>\n",
              "      <td>5.565621</td>\n",
              "      <td>5.684926</td>\n",
              "      <td>5.481460</td>\n",
              "      <td>5.741507</td>\n",
              "    </tr>\n",
              "    <tr>\n",
              "      <th>7</th>\n",
              "      <td>5.325623</td>\n",
              "      <td>5.446476</td>\n",
              "      <td>5.259167</td>\n",
              "      <td>5.482289</td>\n",
              "    </tr>\n",
              "    <tr>\n",
              "      <th>8</th>\n",
              "      <td>4.948316</td>\n",
              "      <td>5.152027</td>\n",
              "      <td>4.819294</td>\n",
              "      <td>5.131405</td>\n",
              "    </tr>\n",
              "    <tr>\n",
              "      <th>9</th>\n",
              "      <td>4.537115</td>\n",
              "      <td>4.758055</td>\n",
              "      <td>4.349234</td>\n",
              "      <td>4.669320</td>\n",
              "    </tr>\n",
              "    <tr>\n",
              "      <th>10</th>\n",
              "      <td>3.949732</td>\n",
              "      <td>4.144662</td>\n",
              "      <td>3.822293</td>\n",
              "      <td>4.156814</td>\n",
              "    </tr>\n",
              "    <tr>\n",
              "      <th>11</th>\n",
              "      <td>3.347344</td>\n",
              "      <td>3.524271</td>\n",
              "      <td>3.196025</td>\n",
              "      <td>3.464700</td>\n",
              "    </tr>\n",
              "    <tr>\n",
              "      <th>12</th>\n",
              "      <td>2.540125</td>\n",
              "      <td>2.766043</td>\n",
              "      <td>2.374239</td>\n",
              "      <td>2.724636</td>\n",
              "    </tr>\n",
              "    <tr>\n",
              "      <th>13</th>\n",
              "      <td>1.673406</td>\n",
              "      <td>1.919634</td>\n",
              "      <td>1.442193</td>\n",
              "      <td>1.858133</td>\n",
              "    </tr>\n",
              "    <tr>\n",
              "      <th>14</th>\n",
              "      <td>0.733005</td>\n",
              "      <td>0.956574</td>\n",
              "      <td>0.484496</td>\n",
              "      <td>0.850597</td>\n",
              "    </tr>\n",
              "    <tr>\n",
              "      <th>15</th>\n",
              "      <td>-0.229341</td>\n",
              "      <td>-0.086526</td>\n",
              "      <td>-0.582223</td>\n",
              "      <td>-0.166088</td>\n",
              "    </tr>\n",
              "  </tbody>\n",
              "</table>\n",
              "</div>"
            ],
            "text/plain": [
              "    1.047198  0.785398  0.523599  0.392699\n",
              "0   5.000000  5.000000  5.000000  5.000000\n",
              "1   5.313335  5.414112  5.295445  5.408066\n",
              "2   5.640229  5.610157  5.541355  5.729635\n",
              "3   5.818422  5.830978  5.607098  5.822510\n",
              "4   5.872012  5.803582  5.609214  5.921003\n",
              "5   5.770749  5.815565  5.604068  5.865888\n",
              "6   5.565621  5.684926  5.481460  5.741507\n",
              "7   5.325623  5.446476  5.259167  5.482289\n",
              "8   4.948316  5.152027  4.819294  5.131405\n",
              "9   4.537115  4.758055  4.349234  4.669320\n",
              "10  3.949732  4.144662  3.822293  4.156814\n",
              "11  3.347344  3.524271  3.196025  3.464700\n",
              "12  2.540125  2.766043  2.374239  2.724636\n",
              "13  1.673406  1.919634  1.442193  1.858133\n",
              "14  0.733005  0.956574  0.484496  0.850597\n",
              "15 -0.229341 -0.086526 -0.582223 -0.166088"
            ]
          },
          "metadata": {
            "tags": []
          },
          "execution_count": 46
        }
      ]
    },
    {
      "cell_type": "code",
      "metadata": {
        "id": "N90pBfWtGCcf"
      },
      "source": [
        "labels = ['pi/3', 'pi/4', 'pi/6', 'pi/8']"
      ],
      "execution_count": null,
      "outputs": []
    },
    {
      "cell_type": "code",
      "metadata": {
        "colab": {
          "base_uri": "https://localhost:8080/",
          "height": 528
        },
        "id": "_rbO0agEHe7D",
        "outputId": "794222bb-21d6-4dac-b6cb-254affe1893f"
      },
      "source": [
        "df_x.columns = labels\n",
        "df_y.columns = labels\n",
        "df_x"
      ],
      "execution_count": null,
      "outputs": [
        {
          "output_type": "execute_result",
          "data": {
            "text/html": [
              "<div>\n",
              "<style scoped>\n",
              "    .dataframe tbody tr th:only-of-type {\n",
              "        vertical-align: middle;\n",
              "    }\n",
              "\n",
              "    .dataframe tbody tr th {\n",
              "        vertical-align: top;\n",
              "    }\n",
              "\n",
              "    .dataframe thead th {\n",
              "        text-align: right;\n",
              "    }\n",
              "</style>\n",
              "<table border=\"1\" class=\"dataframe\">\n",
              "  <thead>\n",
              "    <tr style=\"text-align: right;\">\n",
              "      <th></th>\n",
              "      <th>pi/3</th>\n",
              "      <th>pi/4</th>\n",
              "      <th>pi/6</th>\n",
              "      <th>pi/8</th>\n",
              "    </tr>\n",
              "  </thead>\n",
              "  <tbody>\n",
              "    <tr>\n",
              "      <th>0</th>\n",
              "      <td>1.000000</td>\n",
              "      <td>1.000000</td>\n",
              "      <td>1.000000</td>\n",
              "      <td>1.000000</td>\n",
              "    </tr>\n",
              "    <tr>\n",
              "      <th>1</th>\n",
              "      <td>3.321131</td>\n",
              "      <td>4.002827</td>\n",
              "      <td>3.794602</td>\n",
              "      <td>3.161987</td>\n",
              "    </tr>\n",
              "    <tr>\n",
              "      <th>2</th>\n",
              "      <td>4.557767</td>\n",
              "      <td>5.935951</td>\n",
              "      <td>5.783444</td>\n",
              "      <td>4.930948</td>\n",
              "    </tr>\n",
              "    <tr>\n",
              "      <th>3</th>\n",
              "      <td>6.878898</td>\n",
              "      <td>8.480787</td>\n",
              "      <td>7.878067</td>\n",
              "      <td>7.156721</td>\n",
              "    </tr>\n",
              "    <tr>\n",
              "      <th>4</th>\n",
              "      <td>8.307122</td>\n",
              "      <td>10.176605</td>\n",
              "      <td>9.028988</td>\n",
              "      <td>9.608113</td>\n",
              "    </tr>\n",
              "    <tr>\n",
              "      <th>5</th>\n",
              "      <td>9.149941</td>\n",
              "      <td>13.612086</td>\n",
              "      <td>11.505322</td>\n",
              "      <td>11.771291</td>\n",
              "    </tr>\n",
              "    <tr>\n",
              "      <th>6</th>\n",
              "      <td>10.516809</td>\n",
              "      <td>14.575038</td>\n",
              "      <td>11.779404</td>\n",
              "      <td>11.785706</td>\n",
              "    </tr>\n",
              "    <tr>\n",
              "      <th>7</th>\n",
              "      <td>13.090607</td>\n",
              "      <td>16.779208</td>\n",
              "      <td>14.176597</td>\n",
              "      <td>14.234746</td>\n",
              "    </tr>\n",
              "    <tr>\n",
              "      <th>8</th>\n",
              "      <td>13.614382</td>\n",
              "      <td>18.056278</td>\n",
              "      <td>16.314331</td>\n",
              "      <td>16.566972</td>\n",
              "    </tr>\n",
              "    <tr>\n",
              "      <th>9</th>\n",
              "      <td>15.297273</td>\n",
              "      <td>20.802301</td>\n",
              "      <td>19.164875</td>\n",
              "      <td>17.146650</td>\n",
              "    </tr>\n",
              "    <tr>\n",
              "      <th>10</th>\n",
              "      <td>17.369974</td>\n",
              "      <td>22.511386</td>\n",
              "      <td>22.200564</td>\n",
              "      <td>19.521606</td>\n",
              "    </tr>\n",
              "    <tr>\n",
              "      <th>11</th>\n",
              "      <td>16.927568</td>\n",
              "      <td>23.208270</td>\n",
              "      <td>26.141224</td>\n",
              "      <td>22.381697</td>\n",
              "    </tr>\n",
              "    <tr>\n",
              "      <th>12</th>\n",
              "      <td>19.609243</td>\n",
              "      <td>26.661940</td>\n",
              "      <td>28.708566</td>\n",
              "      <td>24.567907</td>\n",
              "    </tr>\n",
              "    <tr>\n",
              "      <th>13</th>\n",
              "      <td>22.703536</td>\n",
              "      <td>29.057600</td>\n",
              "      <td>31.070574</td>\n",
              "      <td>26.912998</td>\n",
              "    </tr>\n",
              "    <tr>\n",
              "      <th>14</th>\n",
              "      <td>25.767190</td>\n",
              "      <td>30.417609</td>\n",
              "      <td>31.312581</td>\n",
              "      <td>29.314948</td>\n",
              "    </tr>\n",
              "    <tr>\n",
              "      <th>15</th>\n",
              "      <td>27.170555</td>\n",
              "      <td>31.602718</td>\n",
              "      <td>33.674589</td>\n",
              "      <td>30.553717</td>\n",
              "    </tr>\n",
              "  </tbody>\n",
              "</table>\n",
              "</div>"
            ],
            "text/plain": [
              "         pi/3       pi/4       pi/6       pi/8\n",
              "0    1.000000   1.000000   1.000000   1.000000\n",
              "1    3.321131   4.002827   3.794602   3.161987\n",
              "2    4.557767   5.935951   5.783444   4.930948\n",
              "3    6.878898   8.480787   7.878067   7.156721\n",
              "4    8.307122  10.176605   9.028988   9.608113\n",
              "5    9.149941  13.612086  11.505322  11.771291\n",
              "6   10.516809  14.575038  11.779404  11.785706\n",
              "7   13.090607  16.779208  14.176597  14.234746\n",
              "8   13.614382  18.056278  16.314331  16.566972\n",
              "9   15.297273  20.802301  19.164875  17.146650\n",
              "10  17.369974  22.511386  22.200564  19.521606\n",
              "11  16.927568  23.208270  26.141224  22.381697\n",
              "12  19.609243  26.661940  28.708566  24.567907\n",
              "13  22.703536  29.057600  31.070574  26.912998\n",
              "14  25.767190  30.417609  31.312581  29.314948\n",
              "15  27.170555  31.602718  33.674589  30.553717"
            ]
          },
          "metadata": {
            "tags": []
          },
          "execution_count": 48
        }
      ]
    },
    {
      "cell_type": "code",
      "metadata": {
        "id": "HL9d2oKYyh6I"
      },
      "source": [
        "df_x.to_csv ('df_x.csv', index=False)\n",
        "df_y.to_csv ('df_y.csv', index=False)"
      ],
      "execution_count": null,
      "outputs": []
    },
    {
      "cell_type": "markdown",
      "metadata": {
        "id": "aJsc6SidRTfC"
      },
      "source": [
        "# Open a Dataframe and Work with it"
      ]
    },
    {
      "cell_type": "code",
      "metadata": {
        "id": "6UTJYLzaaw8f"
      },
      "source": [
        "import pandas as pd"
      ],
      "execution_count": null,
      "outputs": []
    },
    {
      "cell_type": "code",
      "metadata": {
        "id": "INjs1LbrS7kf"
      },
      "source": [
        "path = '/content/drive/MyDrive/PYMLSpringSchool/pmlsc_WorkShop1/world-university-rankings/cwurData.csv'\n",
        "df= pd.read_csv (path)\n",
        "df"
      ],
      "execution_count": null,
      "outputs": []
    },
    {
      "cell_type": "code",
      "metadata": {
        "colab": {
          "base_uri": "https://localhost:8080/"
        },
        "id": "rUsrniKLbVS7",
        "outputId": "5ef798ee-c263-499e-bdd6-c40c19bfbb1e"
      },
      "source": [
        "df['country'].value_counts().values"
      ],
      "execution_count": null,
      "outputs": [
        {
          "output_type": "execute_result",
          "data": {
            "text/plain": [
              "array([573, 167, 159, 144, 115, 109,  96,  81,  72,  72,  58,  46,  36,\n",
              "        31,  29,  26,  24,  24,  22,  20,  20,  20,  18,  16,  16,  14,\n",
              "        14,  12,  12,  12,  12,  12,  10,  10,   9,   8,   8,   8,   7,\n",
              "         6,   6,   5,   4,   4,   4,   3,   2,   2,   2,   2,   2,   2,\n",
              "         2,   2,   2,   2,   2,   2,   2])"
            ]
          },
          "metadata": {
            "tags": []
          },
          "execution_count": 8
        }
      ]
    },
    {
      "cell_type": "code",
      "metadata": {
        "colab": {
          "base_uri": "https://localhost:8080/",
          "height": 275
        },
        "id": "FMZfcBIkS_K6",
        "outputId": "81ae789d-a5df-4b73-d8d5-149057cd4e03"
      },
      "source": [
        "df.head (4)"
      ],
      "execution_count": null,
      "outputs": [
        {
          "output_type": "execute_result",
          "data": {
            "text/html": [
              "<div>\n",
              "<style scoped>\n",
              "    .dataframe tbody tr th:only-of-type {\n",
              "        vertical-align: middle;\n",
              "    }\n",
              "\n",
              "    .dataframe tbody tr th {\n",
              "        vertical-align: top;\n",
              "    }\n",
              "\n",
              "    .dataframe thead th {\n",
              "        text-align: right;\n",
              "    }\n",
              "</style>\n",
              "<table border=\"1\" class=\"dataframe\">\n",
              "  <thead>\n",
              "    <tr style=\"text-align: right;\">\n",
              "      <th></th>\n",
              "      <th>world_rank</th>\n",
              "      <th>institution</th>\n",
              "      <th>country</th>\n",
              "      <th>national_rank</th>\n",
              "      <th>quality_of_education</th>\n",
              "      <th>alumni_employment</th>\n",
              "      <th>quality_of_faculty</th>\n",
              "      <th>publications</th>\n",
              "      <th>influence</th>\n",
              "      <th>citations</th>\n",
              "      <th>broad_impact</th>\n",
              "      <th>patents</th>\n",
              "      <th>score</th>\n",
              "      <th>year</th>\n",
              "    </tr>\n",
              "  </thead>\n",
              "  <tbody>\n",
              "    <tr>\n",
              "      <th>0</th>\n",
              "      <td>1</td>\n",
              "      <td>Harvard University</td>\n",
              "      <td>USA</td>\n",
              "      <td>1</td>\n",
              "      <td>7</td>\n",
              "      <td>9</td>\n",
              "      <td>1</td>\n",
              "      <td>1</td>\n",
              "      <td>1</td>\n",
              "      <td>1</td>\n",
              "      <td>NaN</td>\n",
              "      <td>5</td>\n",
              "      <td>100.00</td>\n",
              "      <td>2012</td>\n",
              "    </tr>\n",
              "    <tr>\n",
              "      <th>1</th>\n",
              "      <td>2</td>\n",
              "      <td>Massachusetts Institute of Technology</td>\n",
              "      <td>USA</td>\n",
              "      <td>2</td>\n",
              "      <td>9</td>\n",
              "      <td>17</td>\n",
              "      <td>3</td>\n",
              "      <td>12</td>\n",
              "      <td>4</td>\n",
              "      <td>4</td>\n",
              "      <td>NaN</td>\n",
              "      <td>1</td>\n",
              "      <td>91.67</td>\n",
              "      <td>2012</td>\n",
              "    </tr>\n",
              "    <tr>\n",
              "      <th>2</th>\n",
              "      <td>3</td>\n",
              "      <td>Stanford University</td>\n",
              "      <td>USA</td>\n",
              "      <td>3</td>\n",
              "      <td>17</td>\n",
              "      <td>11</td>\n",
              "      <td>5</td>\n",
              "      <td>4</td>\n",
              "      <td>2</td>\n",
              "      <td>2</td>\n",
              "      <td>NaN</td>\n",
              "      <td>15</td>\n",
              "      <td>89.50</td>\n",
              "      <td>2012</td>\n",
              "    </tr>\n",
              "    <tr>\n",
              "      <th>3</th>\n",
              "      <td>4</td>\n",
              "      <td>University of Cambridge</td>\n",
              "      <td>United Kingdom</td>\n",
              "      <td>1</td>\n",
              "      <td>10</td>\n",
              "      <td>24</td>\n",
              "      <td>4</td>\n",
              "      <td>16</td>\n",
              "      <td>16</td>\n",
              "      <td>11</td>\n",
              "      <td>NaN</td>\n",
              "      <td>50</td>\n",
              "      <td>86.17</td>\n",
              "      <td>2012</td>\n",
              "    </tr>\n",
              "  </tbody>\n",
              "</table>\n",
              "</div>"
            ],
            "text/plain": [
              "   world_rank                            institution  ...   score  year\n",
              "0           1                     Harvard University  ...  100.00  2012\n",
              "1           2  Massachusetts Institute of Technology  ...   91.67  2012\n",
              "2           3                    Stanford University  ...   89.50  2012\n",
              "3           4                University of Cambridge  ...   86.17  2012\n",
              "\n",
              "[4 rows x 14 columns]"
            ]
          },
          "metadata": {
            "tags": []
          },
          "execution_count": 55
        }
      ]
    },
    {
      "cell_type": "code",
      "metadata": {
        "colab": {
          "base_uri": "https://localhost:8080/"
        },
        "id": "z3hVWK12S_Et",
        "outputId": "2b2cc9a2-e00b-4c36-9c78-cc3fd762bca7"
      },
      "source": [
        "df.info ()"
      ],
      "execution_count": null,
      "outputs": [
        {
          "output_type": "stream",
          "text": [
            "<class 'pandas.core.frame.DataFrame'>\n",
            "RangeIndex: 2200 entries, 0 to 2199\n",
            "Data columns (total 14 columns):\n",
            " #   Column                Non-Null Count  Dtype  \n",
            "---  ------                --------------  -----  \n",
            " 0   world_rank            2200 non-null   int64  \n",
            " 1   institution           2200 non-null   object \n",
            " 2   country               2200 non-null   object \n",
            " 3   national_rank         2200 non-null   int64  \n",
            " 4   quality_of_education  2200 non-null   int64  \n",
            " 5   alumni_employment     2200 non-null   int64  \n",
            " 6   quality_of_faculty    2200 non-null   int64  \n",
            " 7   publications          2200 non-null   int64  \n",
            " 8   influence             2200 non-null   int64  \n",
            " 9   citations             2200 non-null   int64  \n",
            " 10  broad_impact          2000 non-null   float64\n",
            " 11  patents               2200 non-null   int64  \n",
            " 12  score                 2200 non-null   float64\n",
            " 13  year                  2200 non-null   int64  \n",
            "dtypes: float64(2), int64(10), object(2)\n",
            "memory usage: 240.8+ KB\n"
          ],
          "name": "stdout"
        }
      ]
    },
    {
      "cell_type": "code",
      "metadata": {
        "colab": {
          "base_uri": "https://localhost:8080/",
          "height": 308
        },
        "id": "FxfaJsozS-9U",
        "outputId": "6a28e60c-03af-4acc-9ee2-6e108a865553"
      },
      "source": [
        "df.describe()"
      ],
      "execution_count": null,
      "outputs": [
        {
          "output_type": "execute_result",
          "data": {
            "text/html": [
              "<div>\n",
              "<style scoped>\n",
              "    .dataframe tbody tr th:only-of-type {\n",
              "        vertical-align: middle;\n",
              "    }\n",
              "\n",
              "    .dataframe tbody tr th {\n",
              "        vertical-align: top;\n",
              "    }\n",
              "\n",
              "    .dataframe thead th {\n",
              "        text-align: right;\n",
              "    }\n",
              "</style>\n",
              "<table border=\"1\" class=\"dataframe\">\n",
              "  <thead>\n",
              "    <tr style=\"text-align: right;\">\n",
              "      <th></th>\n",
              "      <th>world_rank</th>\n",
              "      <th>national_rank</th>\n",
              "      <th>quality_of_education</th>\n",
              "      <th>alumni_employment</th>\n",
              "      <th>quality_of_faculty</th>\n",
              "      <th>publications</th>\n",
              "      <th>influence</th>\n",
              "      <th>citations</th>\n",
              "      <th>broad_impact</th>\n",
              "      <th>patents</th>\n",
              "      <th>score</th>\n",
              "      <th>year</th>\n",
              "    </tr>\n",
              "  </thead>\n",
              "  <tbody>\n",
              "    <tr>\n",
              "      <th>count</th>\n",
              "      <td>2200.000000</td>\n",
              "      <td>2200.000000</td>\n",
              "      <td>2200.000000</td>\n",
              "      <td>2200.000000</td>\n",
              "      <td>2200.000000</td>\n",
              "      <td>2200.000000</td>\n",
              "      <td>2200.000000</td>\n",
              "      <td>2200.000000</td>\n",
              "      <td>2000.000000</td>\n",
              "      <td>2200.000000</td>\n",
              "      <td>2200.000000</td>\n",
              "      <td>2200.000000</td>\n",
              "    </tr>\n",
              "    <tr>\n",
              "      <th>mean</th>\n",
              "      <td>459.590909</td>\n",
              "      <td>40.278182</td>\n",
              "      <td>275.100455</td>\n",
              "      <td>357.116818</td>\n",
              "      <td>178.888182</td>\n",
              "      <td>459.908636</td>\n",
              "      <td>459.797727</td>\n",
              "      <td>413.417273</td>\n",
              "      <td>496.699500</td>\n",
              "      <td>433.346364</td>\n",
              "      <td>47.798395</td>\n",
              "      <td>2014.318182</td>\n",
              "    </tr>\n",
              "    <tr>\n",
              "      <th>std</th>\n",
              "      <td>304.320363</td>\n",
              "      <td>51.740870</td>\n",
              "      <td>121.935100</td>\n",
              "      <td>186.779252</td>\n",
              "      <td>64.050885</td>\n",
              "      <td>303.760352</td>\n",
              "      <td>303.331822</td>\n",
              "      <td>264.366549</td>\n",
              "      <td>286.919755</td>\n",
              "      <td>273.996525</td>\n",
              "      <td>7.760806</td>\n",
              "      <td>0.762130</td>\n",
              "    </tr>\n",
              "    <tr>\n",
              "      <th>min</th>\n",
              "      <td>1.000000</td>\n",
              "      <td>1.000000</td>\n",
              "      <td>1.000000</td>\n",
              "      <td>1.000000</td>\n",
              "      <td>1.000000</td>\n",
              "      <td>1.000000</td>\n",
              "      <td>1.000000</td>\n",
              "      <td>1.000000</td>\n",
              "      <td>1.000000</td>\n",
              "      <td>1.000000</td>\n",
              "      <td>43.360000</td>\n",
              "      <td>2012.000000</td>\n",
              "    </tr>\n",
              "    <tr>\n",
              "      <th>25%</th>\n",
              "      <td>175.750000</td>\n",
              "      <td>6.000000</td>\n",
              "      <td>175.750000</td>\n",
              "      <td>175.750000</td>\n",
              "      <td>175.750000</td>\n",
              "      <td>175.750000</td>\n",
              "      <td>175.750000</td>\n",
              "      <td>161.000000</td>\n",
              "      <td>250.500000</td>\n",
              "      <td>170.750000</td>\n",
              "      <td>44.460000</td>\n",
              "      <td>2014.000000</td>\n",
              "    </tr>\n",
              "    <tr>\n",
              "      <th>50%</th>\n",
              "      <td>450.500000</td>\n",
              "      <td>21.000000</td>\n",
              "      <td>355.000000</td>\n",
              "      <td>450.500000</td>\n",
              "      <td>210.000000</td>\n",
              "      <td>450.500000</td>\n",
              "      <td>450.500000</td>\n",
              "      <td>406.000000</td>\n",
              "      <td>496.000000</td>\n",
              "      <td>426.000000</td>\n",
              "      <td>45.100000</td>\n",
              "      <td>2014.000000</td>\n",
              "    </tr>\n",
              "    <tr>\n",
              "      <th>75%</th>\n",
              "      <td>725.250000</td>\n",
              "      <td>49.000000</td>\n",
              "      <td>367.000000</td>\n",
              "      <td>478.000000</td>\n",
              "      <td>218.000000</td>\n",
              "      <td>725.000000</td>\n",
              "      <td>725.250000</td>\n",
              "      <td>645.000000</td>\n",
              "      <td>741.000000</td>\n",
              "      <td>714.250000</td>\n",
              "      <td>47.545000</td>\n",
              "      <td>2015.000000</td>\n",
              "    </tr>\n",
              "    <tr>\n",
              "      <th>max</th>\n",
              "      <td>1000.000000</td>\n",
              "      <td>229.000000</td>\n",
              "      <td>367.000000</td>\n",
              "      <td>567.000000</td>\n",
              "      <td>218.000000</td>\n",
              "      <td>1000.000000</td>\n",
              "      <td>991.000000</td>\n",
              "      <td>812.000000</td>\n",
              "      <td>1000.000000</td>\n",
              "      <td>871.000000</td>\n",
              "      <td>100.000000</td>\n",
              "      <td>2015.000000</td>\n",
              "    </tr>\n",
              "  </tbody>\n",
              "</table>\n",
              "</div>"
            ],
            "text/plain": [
              "        world_rank  national_rank  ...        score         year\n",
              "count  2200.000000    2200.000000  ...  2200.000000  2200.000000\n",
              "mean    459.590909      40.278182  ...    47.798395  2014.318182\n",
              "std     304.320363      51.740870  ...     7.760806     0.762130\n",
              "min       1.000000       1.000000  ...    43.360000  2012.000000\n",
              "25%     175.750000       6.000000  ...    44.460000  2014.000000\n",
              "50%     450.500000      21.000000  ...    45.100000  2014.000000\n",
              "75%     725.250000      49.000000  ...    47.545000  2015.000000\n",
              "max    1000.000000     229.000000  ...   100.000000  2015.000000\n",
              "\n",
              "[8 rows x 12 columns]"
            ]
          },
          "metadata": {
            "tags": []
          },
          "execution_count": 57
        }
      ]
    },
    {
      "cell_type": "code",
      "metadata": {
        "colab": {
          "base_uri": "https://localhost:8080/"
        },
        "id": "D6Q2f86tXvBv",
        "outputId": "4edbae15-0b3b-49d5-f21f-e674782b13c6"
      },
      "source": [
        "df['year'].unique ()"
      ],
      "execution_count": null,
      "outputs": [
        {
          "output_type": "execute_result",
          "data": {
            "text/plain": [
              "array([2012, 2013, 2014, 2015])"
            ]
          },
          "metadata": {
            "tags": []
          },
          "execution_count": 58
        }
      ]
    },
    {
      "cell_type": "code",
      "metadata": {
        "colab": {
          "base_uri": "https://localhost:8080/"
        },
        "id": "qGd7RZbdXu6t",
        "outputId": "44972e1d-1960-4813-eb35-19f94e336ac8"
      },
      "source": [
        "df15 = df[df['year']==2015]\n",
        "df15.info ()"
      ],
      "execution_count": null,
      "outputs": [
        {
          "output_type": "stream",
          "text": [
            "<class 'pandas.core.frame.DataFrame'>\n",
            "Int64Index: 1000 entries, 1200 to 2199\n",
            "Data columns (total 14 columns):\n",
            " #   Column                Non-Null Count  Dtype  \n",
            "---  ------                --------------  -----  \n",
            " 0   world_rank            1000 non-null   int64  \n",
            " 1   institution           1000 non-null   object \n",
            " 2   country               1000 non-null   object \n",
            " 3   national_rank         1000 non-null   int64  \n",
            " 4   quality_of_education  1000 non-null   int64  \n",
            " 5   alumni_employment     1000 non-null   int64  \n",
            " 6   quality_of_faculty    1000 non-null   int64  \n",
            " 7   publications          1000 non-null   int64  \n",
            " 8   influence             1000 non-null   int64  \n",
            " 9   citations             1000 non-null   int64  \n",
            " 10  broad_impact          1000 non-null   float64\n",
            " 11  patents               1000 non-null   int64  \n",
            " 12  score                 1000 non-null   float64\n",
            " 13  year                  1000 non-null   int64  \n",
            "dtypes: float64(2), int64(10), object(2)\n",
            "memory usage: 117.2+ KB\n"
          ],
          "name": "stdout"
        }
      ]
    },
    {
      "cell_type": "code",
      "metadata": {
        "colab": {
          "base_uri": "https://localhost:8080/",
          "height": 308
        },
        "id": "soMlrGpXXux2",
        "outputId": "1fac28e9-2ef6-4805-ba2a-6b10ba093d92"
      },
      "source": [
        "df15.describe ()"
      ],
      "execution_count": null,
      "outputs": [
        {
          "output_type": "execute_result",
          "data": {
            "text/html": [
              "<div>\n",
              "<style scoped>\n",
              "    .dataframe tbody tr th:only-of-type {\n",
              "        vertical-align: middle;\n",
              "    }\n",
              "\n",
              "    .dataframe tbody tr th {\n",
              "        vertical-align: top;\n",
              "    }\n",
              "\n",
              "    .dataframe thead th {\n",
              "        text-align: right;\n",
              "    }\n",
              "</style>\n",
              "<table border=\"1\" class=\"dataframe\">\n",
              "  <thead>\n",
              "    <tr style=\"text-align: right;\">\n",
              "      <th></th>\n",
              "      <th>world_rank</th>\n",
              "      <th>national_rank</th>\n",
              "      <th>quality_of_education</th>\n",
              "      <th>alumni_employment</th>\n",
              "      <th>quality_of_faculty</th>\n",
              "      <th>publications</th>\n",
              "      <th>influence</th>\n",
              "      <th>citations</th>\n",
              "      <th>broad_impact</th>\n",
              "      <th>patents</th>\n",
              "      <th>score</th>\n",
              "      <th>year</th>\n",
              "    </tr>\n",
              "  </thead>\n",
              "  <tbody>\n",
              "    <tr>\n",
              "      <th>count</th>\n",
              "      <td>1000.000000</td>\n",
              "      <td>1000.000000</td>\n",
              "      <td>1000.000000</td>\n",
              "      <td>1000.000000</td>\n",
              "      <td>1000.000000</td>\n",
              "      <td>1000.000000</td>\n",
              "      <td>1000.000000</td>\n",
              "      <td>1000.000000</td>\n",
              "      <td>1000.000000</td>\n",
              "      <td>1000.000000</td>\n",
              "      <td>1000.000000</td>\n",
              "      <td>1000.0</td>\n",
              "    </tr>\n",
              "    <tr>\n",
              "      <th>mean</th>\n",
              "      <td>500.500000</td>\n",
              "      <td>42.512000</td>\n",
              "      <td>299.839000</td>\n",
              "      <td>406.536000</td>\n",
              "      <td>194.253000</td>\n",
              "      <td>500.419000</td>\n",
              "      <td>500.275000</td>\n",
              "      <td>451.334000</td>\n",
              "      <td>496.664000</td>\n",
              "      <td>491.674000</td>\n",
              "      <td>46.863850</td>\n",
              "      <td>2015.0</td>\n",
              "    </tr>\n",
              "    <tr>\n",
              "      <th>std</th>\n",
              "      <td>288.819436</td>\n",
              "      <td>53.457774</td>\n",
              "      <td>109.137446</td>\n",
              "      <td>186.782779</td>\n",
              "      <td>53.709214</td>\n",
              "      <td>288.760066</td>\n",
              "      <td>288.465949</td>\n",
              "      <td>252.090134</td>\n",
              "      <td>286.957784</td>\n",
              "      <td>275.904565</td>\n",
              "      <td>6.509912</td>\n",
              "      <td>0.0</td>\n",
              "    </tr>\n",
              "    <tr>\n",
              "      <th>min</th>\n",
              "      <td>1.000000</td>\n",
              "      <td>1.000000</td>\n",
              "      <td>1.000000</td>\n",
              "      <td>1.000000</td>\n",
              "      <td>1.000000</td>\n",
              "      <td>1.000000</td>\n",
              "      <td>1.000000</td>\n",
              "      <td>1.000000</td>\n",
              "      <td>1.000000</td>\n",
              "      <td>1.000000</td>\n",
              "      <td>44.020000</td>\n",
              "      <td>2015.0</td>\n",
              "    </tr>\n",
              "    <tr>\n",
              "      <th>25%</th>\n",
              "      <td>250.750000</td>\n",
              "      <td>7.000000</td>\n",
              "      <td>250.750000</td>\n",
              "      <td>250.750000</td>\n",
              "      <td>218.000000</td>\n",
              "      <td>250.750000</td>\n",
              "      <td>250.750000</td>\n",
              "      <td>234.000000</td>\n",
              "      <td>250.000000</td>\n",
              "      <td>250.750000</td>\n",
              "      <td>44.300000</td>\n",
              "      <td>2015.0</td>\n",
              "    </tr>\n",
              "    <tr>\n",
              "      <th>50%</th>\n",
              "      <td>500.500000</td>\n",
              "      <td>22.000000</td>\n",
              "      <td>367.000000</td>\n",
              "      <td>500.500000</td>\n",
              "      <td>218.000000</td>\n",
              "      <td>500.500000</td>\n",
              "      <td>500.500000</td>\n",
              "      <td>428.000000</td>\n",
              "      <td>495.000000</td>\n",
              "      <td>500.500000</td>\n",
              "      <td>44.780000</td>\n",
              "      <td>2015.0</td>\n",
              "    </tr>\n",
              "    <tr>\n",
              "      <th>75%</th>\n",
              "      <td>750.250000</td>\n",
              "      <td>52.000000</td>\n",
              "      <td>367.000000</td>\n",
              "      <td>567.000000</td>\n",
              "      <td>218.000000</td>\n",
              "      <td>750.000000</td>\n",
              "      <td>750.250000</td>\n",
              "      <td>645.000000</td>\n",
              "      <td>741.000000</td>\n",
              "      <td>749.000000</td>\n",
              "      <td>46.542500</td>\n",
              "      <td>2015.0</td>\n",
              "    </tr>\n",
              "    <tr>\n",
              "      <th>max</th>\n",
              "      <td>1000.000000</td>\n",
              "      <td>229.000000</td>\n",
              "      <td>367.000000</td>\n",
              "      <td>567.000000</td>\n",
              "      <td>218.000000</td>\n",
              "      <td>1000.000000</td>\n",
              "      <td>991.000000</td>\n",
              "      <td>812.000000</td>\n",
              "      <td>1000.000000</td>\n",
              "      <td>871.000000</td>\n",
              "      <td>100.000000</td>\n",
              "      <td>2015.0</td>\n",
              "    </tr>\n",
              "  </tbody>\n",
              "</table>\n",
              "</div>"
            ],
            "text/plain": [
              "        world_rank  national_rank  ...        score    year\n",
              "count  1000.000000    1000.000000  ...  1000.000000  1000.0\n",
              "mean    500.500000      42.512000  ...    46.863850  2015.0\n",
              "std     288.819436      53.457774  ...     6.509912     0.0\n",
              "min       1.000000       1.000000  ...    44.020000  2015.0\n",
              "25%     250.750000       7.000000  ...    44.300000  2015.0\n",
              "50%     500.500000      22.000000  ...    44.780000  2015.0\n",
              "75%     750.250000      52.000000  ...    46.542500  2015.0\n",
              "max    1000.000000     229.000000  ...   100.000000  2015.0\n",
              "\n",
              "[8 rows x 12 columns]"
            ]
          },
          "metadata": {
            "tags": []
          },
          "execution_count": 60
        }
      ]
    },
    {
      "cell_type": "code",
      "metadata": {
        "id": "LOinYizJXurP"
      },
      "source": [
        "import seaborn as sns"
      ],
      "execution_count": null,
      "outputs": []
    },
    {
      "cell_type": "code",
      "metadata": {
        "colab": {
          "base_uri": "https://localhost:8080/",
          "height": 515
        },
        "id": "GurUxn0CXujU",
        "outputId": "f70141bd-7dbc-4e8c-e2ca-f07067f66a77"
      },
      "source": [
        "plt.figure(figsize=[16,8])\n",
        "sns.countplot (x='country', data=df15)"
      ],
      "execution_count": null,
      "outputs": [
        {
          "output_type": "execute_result",
          "data": {
            "text/plain": [
              "<matplotlib.axes._subplots.AxesSubplot at 0x7f8c88897e90>"
            ]
          },
          "metadata": {
            "tags": []
          },
          "execution_count": 62
        },
        {
          "output_type": "display_data",
          "data": {
            "image/png": "[encoded data removed]",
            "text/plain": [
              "<Figure size 1152x576 with 1 Axes>"
            ]
          },
          "metadata": {
            "tags": [],
            "needs_background": "light"
          }
        }
      ]
    },
    {
      "cell_type": "markdown",
      "metadata": {
        "id": "IC2Mrhxh2472"
      },
      "source": [
        "This is too big to consider. Let's make it smaller and take a look at. We will make a smaller dataframe of less countries. Only those of them with more than 40 institutes. "
      ]
    },
    {
      "cell_type": "code",
      "metadata": {
        "colab": {
          "base_uri": "https://localhost:8080/"
        },
        "id": "nSDO81L6Y5Zv",
        "outputId": "a49375a9-4574-402d-ccd9-8dda18326e26"
      },
      "source": [
        "df15['country'].unique()"
      ],
      "execution_count": null,
      "outputs": [
        {
          "output_type": "execute_result",
          "data": {
            "text/plain": [
              "array(['USA', 'United Kingdom', 'Japan', 'Switzerland', 'Israel',\n",
              "       'South Korea', 'Canada', 'France', 'China', 'Taiwan', 'Russia',\n",
              "       'Singapore', 'Sweden', 'Denmark', 'Germany', 'Belgium',\n",
              "       'Netherlands', 'Australia', 'Norway', 'Finland', 'Italy', 'Spain',\n",
              "       'Brazil', 'South Africa', 'Hong Kong', 'Ireland', 'Austria',\n",
              "       'Portugal', 'New Zealand', 'Czech Republic', 'Greece', 'Thailand',\n",
              "       'Mexico', 'India', 'Argentina', 'Chile', 'Poland', 'Hungary',\n",
              "       'Iceland', 'Turkey', 'Malaysia', 'Slovenia', 'Estonia', 'Croatia',\n",
              "       'Saudi Arabia', 'Colombia', 'Lebanon', 'Slovak Republic', 'Iran',\n",
              "       'Serbia', 'Lithuania', 'Egypt', 'Bulgaria', 'Uruguay', 'Uganda',\n",
              "       'Cyprus', 'United Arab Emirates', 'Puerto Rico', 'Romania'],\n",
              "      dtype=object)"
            ]
          },
          "metadata": {
            "tags": []
          },
          "execution_count": 63
        }
      ]
    },
    {
      "cell_type": "code",
      "metadata": {
        "id": "OiUD3vSKa672"
      },
      "source": [
        "countries= ['USA', 'United Kingdom', 'Japan', 'Switzerland', 'Israel',\n",
        "       'South Korea', 'Canada', 'France', 'China', 'Taiwan', 'Russia',\n",
        "       'Singapore', 'Sweden', 'Denmark', 'Germany', 'Belgium',\n",
        "       'Netherlands', 'Australia', 'Norway', 'Finland', 'Italy', 'Spain',\n",
        "       'Brazil', 'South Africa', 'Hong Kong', 'Ireland', 'Austria',\n",
        "       'Portugal', 'New Zealand', 'Czech Republic', 'Greece', 'Thailand',\n",
        "       'Mexico', 'India', 'Argentina', 'Chile', 'Poland', 'Hungary',\n",
        "       'Iceland', 'Turkey', 'Malaysia', 'Slovenia', 'Estonia', 'Croatia',\n",
        "       'Saudi Arabia', 'Colombia', 'Lebanon', 'Slovak Republic', 'Iran',\n",
        "       'Serbia', 'Lithuania', 'Egypt', 'Bulgaria', 'Uruguay', 'Uganda',\n",
        "       'Cyprus', 'United Arab Emirates', 'Puerto Rico', 'Romania']"
      ],
      "execution_count": null,
      "outputs": []
    },
    {
      "cell_type": "code",
      "metadata": {
        "colab": {
          "base_uri": "https://localhost:8080/"
        },
        "id": "5jOfAp2G2r8I",
        "outputId": "1487bda8-2d1d-491f-c8ee-173d490c4bc1"
      },
      "source": [
        "df15['country']=='USA'"
      ],
      "execution_count": null,
      "outputs": [
        {
          "output_type": "execute_result",
          "data": {
            "text/plain": [
              "1200     True\n",
              "1201     True\n",
              "1202     True\n",
              "1203    False\n",
              "1204    False\n",
              "        ...  \n",
              "2195    False\n",
              "2196    False\n",
              "2197    False\n",
              "2198    False\n",
              "2199    False\n",
              "Name: country, Length: 1000, dtype: bool"
            ]
          },
          "metadata": {
            "tags": []
          },
          "execution_count": 66
        }
      ]
    },
    {
      "cell_type": "code",
      "metadata": {
        "colab": {
          "base_uri": "https://localhost:8080/"
        },
        "id": "tg7_PJt2u1Xd",
        "outputId": "fd61fe4d-92d3-4db8-907d-4030f159d7a3"
      },
      "source": [
        "# in python we can sum bools and get int valuse of them:\n",
        "True + True"
      ],
      "execution_count": null,
      "outputs": [
        {
          "output_type": "execute_result",
          "data": {
            "text/plain": [
              "2"
            ]
          },
          "metadata": {
            "tags": []
          },
          "execution_count": 67
        }
      ]
    },
    {
      "cell_type": "code",
      "metadata": {
        "id": "kmvcoQhXak8n"
      },
      "source": [
        "df['country'].value_counts ()"
      ],
      "execution_count": null,
      "outputs": []
    },
    {
      "cell_type": "code",
      "metadata": {
        "colab": {
          "base_uri": "https://localhost:8080/"
        },
        "id": "7D5BQeDd2nBb",
        "outputId": "4ea3ce06-d528-4cfe-a321-1f195ae86f1e"
      },
      "source": [
        "# with function sum() we can buld our algorithm to count the entries in specific countries:\n",
        "USA = sum (df15['country']=='USA')\n",
        "print(f'The rows related to SUA are {USA} entries.')"
      ],
      "execution_count": null,
      "outputs": [
        {
          "output_type": "stream",
          "text": [
            "The rows related to SUA are 229 entries.\n"
          ],
          "name": "stdout"
        }
      ]
    },
    {
      "cell_type": "code",
      "metadata": {
        "id": "M7kwPIsES-xm"
      },
      "source": [
        "cnt = {}\n",
        "for i, cntr in enumerate (countries):\n",
        "    cnt[cntr]= sum (df15['country']==cntr)\n",
        "cnt"
      ],
      "execution_count": null,
      "outputs": []
    },
    {
      "cell_type": "code",
      "metadata": {
        "id": "N0hFklLbatgQ",
        "colab": {
          "base_uri": "https://localhost:8080/"
        },
        "outputId": "b5eeffd8-0132-49df-b7b5-01287c02e286"
      },
      "source": [
        "b30 = []\n",
        "for cntr in countries:\n",
        "    if cnt[cntr]>30:\n",
        "        b30.append(cntr)\n",
        "\n",
        "b30.append('Switzerland')\n",
        "b30"
      ],
      "execution_count": null,
      "outputs": [
        {
          "output_type": "execute_result",
          "data": {
            "text/plain": [
              "['USA',\n",
              " 'United Kingdom',\n",
              " 'Japan',\n",
              " 'South Korea',\n",
              " 'Canada',\n",
              " 'France',\n",
              " 'China',\n",
              " 'Germany',\n",
              " 'Italy',\n",
              " 'Spain',\n",
              " 'Switzerland']"
            ]
          },
          "metadata": {
            "tags": []
          },
          "execution_count": 76
        }
      ]
    },
    {
      "cell_type": "code",
      "metadata": {
        "id": "Naj1zn2WatZD",
        "colab": {
          "base_uri": "https://localhost:8080/"
        },
        "outputId": "46233aa4-42e2-4e35-d5cd-b40c5ed3d441"
      },
      "source": [
        " a1 = df15['country']== b30[0]\n",
        "for cntry in (b30):\n",
        "    a1 += df15['country']== cntry"
      ],
      "execution_count": null,
      "outputs": [
        {
          "output_type": "stream",
          "text": [
            "/usr/local/lib/python3.7/dist-packages/pandas/core/computation/expressions.py:204: UserWarning: evaluating in Python space because the '+' operator is not supported by numexpr for the bool dtype, use '|' instead\n",
            "  f\"evaluating in Python space because the {repr(op_str)} \"\n"
          ],
          "name": "stderr"
        }
      ]
    },
    {
      "cell_type": "code",
      "metadata": {
        "id": "sB3Lfc9batSk",
        "colab": {
          "base_uri": "https://localhost:8080/",
          "height": 308
        },
        "outputId": "5b49a287-c62a-426d-d343-5198e0cd6b52"
      },
      "source": [
        "df1530= df15[a1]\n",
        "df1530.describe ()"
      ],
      "execution_count": null,
      "outputs": [
        {
          "output_type": "execute_result",
          "data": {
            "text/html": [
              "<div>\n",
              "<style scoped>\n",
              "    .dataframe tbody tr th:only-of-type {\n",
              "        vertical-align: middle;\n",
              "    }\n",
              "\n",
              "    .dataframe tbody tr th {\n",
              "        vertical-align: top;\n",
              "    }\n",
              "\n",
              "    .dataframe thead th {\n",
              "        text-align: right;\n",
              "    }\n",
              "</style>\n",
              "<table border=\"1\" class=\"dataframe\">\n",
              "  <thead>\n",
              "    <tr style=\"text-align: right;\">\n",
              "      <th></th>\n",
              "      <th>world_rank</th>\n",
              "      <th>national_rank</th>\n",
              "      <th>quality_of_education</th>\n",
              "      <th>alumni_employment</th>\n",
              "      <th>quality_of_faculty</th>\n",
              "      <th>publications</th>\n",
              "      <th>influence</th>\n",
              "      <th>citations</th>\n",
              "      <th>broad_impact</th>\n",
              "      <th>patents</th>\n",
              "      <th>score</th>\n",
              "      <th>year</th>\n",
              "    </tr>\n",
              "  </thead>\n",
              "  <tbody>\n",
              "    <tr>\n",
              "      <th>count</th>\n",
              "      <td>720.000000</td>\n",
              "      <td>720.000000</td>\n",
              "      <td>720.000000</td>\n",
              "      <td>720.000000</td>\n",
              "      <td>720.000000</td>\n",
              "      <td>720.000000</td>\n",
              "      <td>720.000000</td>\n",
              "      <td>720.000000</td>\n",
              "      <td>720.000000</td>\n",
              "      <td>720.000000</td>\n",
              "      <td>720.000000</td>\n",
              "      <td>720.0</td>\n",
              "    </tr>\n",
              "    <tr>\n",
              "      <th>mean</th>\n",
              "      <td>472.244444</td>\n",
              "      <td>56.563889</td>\n",
              "      <td>296.493056</td>\n",
              "      <td>396.879167</td>\n",
              "      <td>191.313889</td>\n",
              "      <td>486.108333</td>\n",
              "      <td>471.038889</td>\n",
              "      <td>433.380556</td>\n",
              "      <td>468.055556</td>\n",
              "      <td>446.226389</td>\n",
              "      <td>47.381708</td>\n",
              "      <td>2015.0</td>\n",
              "    </tr>\n",
              "    <tr>\n",
              "      <th>std</th>\n",
              "      <td>286.411472</td>\n",
              "      <td>56.993071</td>\n",
              "      <td>112.996781</td>\n",
              "      <td>192.499547</td>\n",
              "      <td>57.399450</td>\n",
              "      <td>293.686367</td>\n",
              "      <td>286.515367</td>\n",
              "      <td>256.466076</td>\n",
              "      <td>284.715742</td>\n",
              "      <td>268.030654</td>\n",
              "      <td>7.449315</td>\n",
              "      <td>0.0</td>\n",
              "    </tr>\n",
              "    <tr>\n",
              "      <th>min</th>\n",
              "      <td>1.000000</td>\n",
              "      <td>1.000000</td>\n",
              "      <td>1.000000</td>\n",
              "      <td>1.000000</td>\n",
              "      <td>1.000000</td>\n",
              "      <td>1.000000</td>\n",
              "      <td>1.000000</td>\n",
              "      <td>1.000000</td>\n",
              "      <td>1.000000</td>\n",
              "      <td>1.000000</td>\n",
              "      <td>44.020000</td>\n",
              "      <td>2015.0</td>\n",
              "    </tr>\n",
              "    <tr>\n",
              "      <th>25%</th>\n",
              "      <td>220.500000</td>\n",
              "      <td>18.000000</td>\n",
              "      <td>233.750000</td>\n",
              "      <td>230.750000</td>\n",
              "      <td>218.000000</td>\n",
              "      <td>221.250000</td>\n",
              "      <td>216.750000</td>\n",
              "      <td>212.000000</td>\n",
              "      <td>219.000000</td>\n",
              "      <td>210.750000</td>\n",
              "      <td>44.330000</td>\n",
              "      <td>2015.0</td>\n",
              "    </tr>\n",
              "    <tr>\n",
              "      <th>50%</th>\n",
              "      <td>463.500000</td>\n",
              "      <td>36.000000</td>\n",
              "      <td>367.000000</td>\n",
              "      <td>483.500000</td>\n",
              "      <td>218.000000</td>\n",
              "      <td>476.500000</td>\n",
              "      <td>465.500000</td>\n",
              "      <td>428.000000</td>\n",
              "      <td>457.000000</td>\n",
              "      <td>440.500000</td>\n",
              "      <td>44.910000</td>\n",
              "      <td>2015.0</td>\n",
              "    </tr>\n",
              "    <tr>\n",
              "      <th>75%</th>\n",
              "      <td>720.250000</td>\n",
              "      <td>69.000000</td>\n",
              "      <td>367.000000</td>\n",
              "      <td>567.000000</td>\n",
              "      <td>218.000000</td>\n",
              "      <td>738.750000</td>\n",
              "      <td>716.250000</td>\n",
              "      <td>645.000000</td>\n",
              "      <td>715.000000</td>\n",
              "      <td>676.250000</td>\n",
              "      <td>47.042500</td>\n",
              "      <td>2015.0</td>\n",
              "    </tr>\n",
              "    <tr>\n",
              "      <th>max</th>\n",
              "      <td>1000.000000</td>\n",
              "      <td>229.000000</td>\n",
              "      <td>367.000000</td>\n",
              "      <td>567.000000</td>\n",
              "      <td>218.000000</td>\n",
              "      <td>1000.000000</td>\n",
              "      <td>991.000000</td>\n",
              "      <td>812.000000</td>\n",
              "      <td>999.000000</td>\n",
              "      <td>871.000000</td>\n",
              "      <td>100.000000</td>\n",
              "      <td>2015.0</td>\n",
              "    </tr>\n",
              "  </tbody>\n",
              "</table>\n",
              "</div>"
            ],
            "text/plain": [
              "        world_rank  national_rank  ...       score    year\n",
              "count   720.000000     720.000000  ...  720.000000   720.0\n",
              "mean    472.244444      56.563889  ...   47.381708  2015.0\n",
              "std     286.411472      56.993071  ...    7.449315     0.0\n",
              "min       1.000000       1.000000  ...   44.020000  2015.0\n",
              "25%     220.500000      18.000000  ...   44.330000  2015.0\n",
              "50%     463.500000      36.000000  ...   44.910000  2015.0\n",
              "75%     720.250000      69.000000  ...   47.042500  2015.0\n",
              "max    1000.000000     229.000000  ...  100.000000  2015.0\n",
              "\n",
              "[8 rows x 12 columns]"
            ]
          },
          "metadata": {
            "tags": []
          },
          "execution_count": 80
        }
      ]
    },
    {
      "cell_type": "code",
      "metadata": {
        "id": "MW8tPUGfatKO",
        "colab": {
          "base_uri": "https://localhost:8080/",
          "height": 515
        },
        "outputId": "bc18bcf0-2692-4eef-b8bf-597233f7f3b8"
      },
      "source": [
        "plt.figure(figsize=[16,8])\n",
        "sns.countplot (x='country', data=df1530)"
      ],
      "execution_count": null,
      "outputs": [
        {
          "output_type": "execute_result",
          "data": {
            "text/plain": [
              "<matplotlib.axes._subplots.AxesSubplot at 0x7f8c79c19390>"
            ]
          },
          "metadata": {
            "tags": []
          },
          "execution_count": 81
        },
        {
          "output_type": "display_data",
          "data": {
            "image/png": "[encoded data removed]",
            "text/plain": [
              "<Figure size 1152x576 with 1 Axes>"
            ]
          },
          "metadata": {
            "tags": [],
            "needs_background": "light"
          }
        }
      ]
    },
    {
      "cell_type": "code",
      "metadata": {
        "colab": {
          "base_uri": "https://localhost:8080/",
          "height": 515
        },
        "id": "UpcqK62j5nuV",
        "outputId": "7bb9e082-620b-4432-d3c5-b40344c253ee"
      },
      "source": [
        "# plot a CATEGORICAL vs. a NUMERICAL variabal\n",
        "plt.figure(figsize=[16,8])\n",
        "sns.barplot (data=df1530, x='country', y='world_rank', )"
      ],
      "execution_count": null,
      "outputs": [
        {
          "output_type": "execute_result",
          "data": {
            "text/plain": [
              "<matplotlib.axes._subplots.AxesSubplot at 0x7f8c79b1f590>"
            ]
          },
          "metadata": {
            "tags": []
          },
          "execution_count": 83
        },
        {
          "output_type": "display_data",
          "data": {
            "image/png": "[encoded data removed]",
            "text/plain": [
              "<Figure size 1152x576 with 1 Axes>"
            ]
          },
          "metadata": {
            "tags": [],
            "needs_background": "light"
          }
        }
      ]
    },
    {
      "cell_type": "code",
      "metadata": {
        "colab": {
          "base_uri": "https://localhost:8080/",
          "height": 515
        },
        "id": "tjKB6j0r5nor",
        "outputId": "60c68d5b-6fe6-4830-92e8-acee1e0d9308"
      },
      "source": [
        "# plot a CATEGORICAL vs. a NUMERICAL variabal\n",
        "# a boxplot to see the distributions:\n",
        "plt.figure(figsize=[16,8])\n",
        "sns.boxplot (data=df1530, x='country', y='world_rank', )"
      ],
      "execution_count": null,
      "outputs": [
        {
          "output_type": "execute_result",
          "data": {
            "text/plain": [
              "<matplotlib.axes._subplots.AxesSubplot at 0x7f8c799c8710>"
            ]
          },
          "metadata": {
            "tags": []
          },
          "execution_count": 84
        },
        {
          "output_type": "display_data",
          "data": {
            "image/png": "[encoded data removed]",
            "text/plain": [
              "<Figure size 1152x576 with 1 Axes>"
            ]
          },
          "metadata": {
            "tags": [],
            "needs_background": "light"
          }
        }
      ]
    },
    {
      "cell_type": "code",
      "metadata": {
        "colab": {
          "base_uri": "https://localhost:8080/",
          "height": 515
        },
        "id": "WxgOd82u6mV_",
        "outputId": "e9e66709-5db2-42d7-e3b7-8565d91db6bb"
      },
      "source": [
        "# plot a CATEGORICAL vs. a NUMERICAL variabal\n",
        "# a violinplot to see the distributions better:\n",
        "plt.figure(figsize=[16,8])\n",
        "sns.violinplot (data=df1530, x='country', y='world_rank', )"
      ],
      "execution_count": null,
      "outputs": [
        {
          "output_type": "execute_result",
          "data": {
            "text/plain": [
              "<matplotlib.axes._subplots.AxesSubplot at 0x7f8c79aca3d0>"
            ]
          },
          "metadata": {
            "tags": []
          },
          "execution_count": 85
        },
        {
          "output_type": "display_data",
          "data": {
            "image/png": "[encoded data removed]",
            "text/plain": [
              "<Figure size 1152x576 with 1 Axes>"
            ]
          },
          "metadata": {
            "tags": [],
            "needs_background": "light"
          }
        }
      ]
    },
    {
      "cell_type": "code",
      "metadata": {
        "colab": {
          "base_uri": "https://localhost:8080/",
          "height": 459
        },
        "id": "5GaPEo6b6mRp",
        "outputId": "52217b82-3709-4bd5-cdb3-2500073db6e0"
      },
      "source": [
        "# plot a NUMERICAL vs. a NUMERICAL variabal\n",
        "sns.jointplot(x='publications',y='world_rank',data=df1530,kind='scatter')"
      ],
      "execution_count": null,
      "outputs": [
        {
          "output_type": "execute_result",
          "data": {
            "text/plain": [
              "<seaborn.axisgrid.JointGrid at 0x7f8c6d435ad0>"
            ]
          },
          "metadata": {
            "tags": []
          },
          "execution_count": 89
        },
        {
          "output_type": "display_data",
          "data": {
            "image/png": "[encoded data removed]",
            "text/plain": [
              "<Figure size 432x432 with 3 Axes>"
            ]
          },
          "metadata": {
            "tags": [],
            "needs_background": "light"
          }
        }
      ]
    },
    {
      "cell_type": "code",
      "metadata": {
        "id": "po2DC0mU6mMj"
      },
      "source": [
        ""
      ],
      "execution_count": null,
      "outputs": []
    },
    {
      "cell_type": "code",
      "metadata": {
        "id": "RPj1lNmg6mAK"
      },
      "source": [
        ""
      ],
      "execution_count": null,
      "outputs": []
    },
    {
      "cell_type": "code",
      "metadata": {
        "id": "d1JbJaIv8F5h"
      },
      "source": [
        ""
      ],
      "execution_count": null,
      "outputs": []
    },
    {
      "cell_type": "code",
      "metadata": {
        "id": "e4Lz7ZOD8F0g"
      },
      "source": [
        ""
      ],
      "execution_count": null,
      "outputs": []
    },
    {
      "cell_type": "code",
      "metadata": {
        "id": "jUBNYGtn8FuO"
      },
      "source": [
        ""
      ],
      "execution_count": null,
      "outputs": []
    }
  ]
}