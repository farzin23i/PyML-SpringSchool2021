{
  "nbformat": 4,
  "nbformat_minor": 0,
  "metadata": {
    "colab": {
      "name": "PMLSC23_210506.ipynb",
      "provenance": [],
      "authorship_tag": "ABX9TyPYtqdCIkDEZuLZLQACKMQe",
      "include_colab_link": true
    },
    "kernelspec": {
      "name": "python3",
      "display_name": "Python 3"
    },
    "language_info": {
      "name": "python"
    },
    "accelerator": "GPU"
  },
  "cells": [
    {
      "cell_type": "markdown",
      "metadata": {
        "id": "view-in-github",
        "colab_type": "text"
      },
      "source": [
        "<a href=\"https://colab.research.google.com/github/farzin23i/PyML-SpringSchool2021/blob/main/Workshop2/PMLSC23_210506.ipynb\" target=\"_parent\"><img src=\"https://colab.research.google.com/assets/colab-badge.svg\" alt=\"Open In Colab\"/></a>"
      ]
    },
    {
      "cell_type": "markdown",
      "metadata": {
        "id": "CvaRGvyMg7v-"
      },
      "source": [
        "In a neural network, the process of each node is similar to what happens in regression!"
      ]
    },
    {
      "cell_type": "markdown",
      "metadata": {
        "id": "fCjevfiCBiCg"
      },
      "source": [
        "<center><img src='https://drive.google.com/uc?id=1AxKd0byAmswQr1SKc2dP4-xvIb38RR2V' height=400/></center>\n"
      ]
    },
    {
      "cell_type": "markdown",
      "metadata": {
        "id": "v7MaXcOhQojK"
      },
      "source": [
        "# MNIST problem"
      ]
    },
    {
      "cell_type": "code",
      "metadata": {
        "id": "cZS3Q6UoR4Ys"
      },
      "source": [
        "import numpy as np\n",
        "from tensorflow.keras.datasets import mnist\n",
        "from pylab import plt\n",
        "plt.style.use ('seaborn')"
      ],
      "execution_count": 1,
      "outputs": []
    },
    {
      "cell_type": "markdown",
      "metadata": {
        "id": "hG0BpAqmib-6"
      },
      "source": [
        "Let's have a look at the data, first we see how many objects, of what kind and shape is in it:"
      ]
    },
    {
      "cell_type": "code",
      "metadata": {
        "id": "nkD-IUFdgSNv",
        "colab": {
          "base_uri": "https://localhost:8080/"
        },
        "outputId": "40067783-2905-4604-e845-1d18ac6b5de5"
      },
      "source": [
        "len(mnist.load_data()[0])"
      ],
      "execution_count": 2,
      "outputs": [
        {
          "output_type": "stream",
          "text": [
            "Downloading data from https://storage.googleapis.com/tensorflow/tf-keras-datasets/mnist.npz\n",
            "11493376/11490434 [==============================] - 0s 0us/step\n"
          ],
          "name": "stdout"
        },
        {
          "output_type": "execute_result",
          "data": {
            "text/plain": [
              "2"
            ]
          },
          "metadata": {
            "tags": []
          },
          "execution_count": 2
        }
      ]
    },
    {
      "cell_type": "code",
      "metadata": {
        "id": "4gIjhr6cga_3",
        "colab": {
          "base_uri": "https://localhost:8080/"
        },
        "outputId": "766d5332-7b2b-45b4-9b98-540eaad7ff0e"
      },
      "source": [
        "mnist.load_data()[0][0].shape "
      ],
      "execution_count": null,
      "outputs": [
        {
          "output_type": "execute_result",
          "data": {
            "text/plain": [
              "(60000, 28, 28)"
            ]
          },
          "metadata": {
            "tags": []
          },
          "execution_count": 3
        }
      ]
    },
    {
      "cell_type": "code",
      "metadata": {
        "colab": {
          "base_uri": "https://localhost:8080/"
        },
        "id": "d63mzWCOXiCZ",
        "outputId": "166b728e-f104-436a-85a8-739ec3bf11d3"
      },
      "source": [
        "mnist.load_data()[0][1].shape"
      ],
      "execution_count": null,
      "outputs": [
        {
          "output_type": "execute_result",
          "data": {
            "text/plain": [
              "(60000,)"
            ]
          },
          "metadata": {
            "tags": []
          },
          "execution_count": 4
        }
      ]
    },
    {
      "cell_type": "code",
      "metadata": {
        "colab": {
          "base_uri": "https://localhost:8080/"
        },
        "id": "pGqZzaRLXh8z",
        "outputId": "b79a2cc3-2535-47f4-dc31-a4be1cd37c3c"
      },
      "source": [
        "(X_train, y_train), (X_test, y_test) = mnist.load_data()\n",
        "print (f'The train dataset has shape {X_train.shape} and the labels shape is: {y_train.shape}')\n",
        "print (f'The test dataset has shape {X_test.shape} and the labels shape is: {y_test.shape}')"
      ],
      "execution_count": 3,
      "outputs": [
        {
          "output_type": "stream",
          "text": [
            "The train dataset has shape (60000, 28, 28) and the labels shape is: (60000,)\n",
            "The test dataset has shape (10000, 28, 28) and the labels shape is: (10000,)\n"
          ],
          "name": "stdout"
        }
      ]
    },
    {
      "cell_type": "code",
      "metadata": {
        "colab": {
          "base_uri": "https://localhost:8080/",
          "height": 236
        },
        "id": "d0cCC7AgXhz9",
        "outputId": "062566fb-c73d-4a41-9734-a1fe373ad474"
      },
      "source": [
        "# plot some of the data with their labels as titles:\n",
        "fig, ax= plt.subplots (2, 8, figsize= [12,4])\n",
        "for i in range (2):\n",
        "    for j in range (8):\n",
        "        rnd= np.random.randint (len(X_train))\n",
        "        ax[i, j].imshow (X_train[rnd])\n",
        "        ax[i, j].set_title (y_train [rnd])\n",
        "        ax[i, j].set_xticklabels([])\n",
        "        ax[i, j].set_yticklabels([])"
      ],
      "execution_count": 4,
      "outputs": [
        {
          "output_type": "display_data",
          "data": {
            "image/png": "[encoded data removed]",
            "text/plain": [
              "<Figure size 864x288 with 16 Axes>"
            ]
          },
          "metadata": {
            "tags": [],
            "needs_background": "light"
          }
        }
      ]
    },
    {
      "cell_type": "code",
      "metadata": {
        "colab": {
          "base_uri": "https://localhost:8080/"
        },
        "id": "3AYJ5tgTbSTU",
        "outputId": "b9121c23-6803-4628-81ed-bcb6d6e67f02"
      },
      "source": [
        "# The data stored in the labels is just a number, the label of image:\n",
        "y_train[4001]"
      ],
      "execution_count": null,
      "outputs": [
        {
          "output_type": "execute_result",
          "data": {
            "text/plain": [
              "3"
            ]
          },
          "metadata": {
            "tags": []
          },
          "execution_count": 7
        }
      ]
    },
    {
      "cell_type": "code",
      "metadata": {
        "colab": {
          "base_uri": "https://localhost:8080/"
        },
        "id": "ljYJRguEbFn4",
        "outputId": "e146a669-5fe0-450e-a3d2-c1ef8ee1969f"
      },
      "source": [
        "# The data stored in any image is shomthing like this, just a tensor:\n",
        "X_train[4001].reshape ([-1])"
      ],
      "execution_count": null,
      "outputs": [
        {
          "output_type": "execute_result",
          "data": {
            "text/plain": [
              "array([  0,   0,   0,   0,   0,   0,   0,   0,   0,   0,   0,   0,   0,\n",
              "         0,   0,   0,   0,   0,   0,   0,   0,   0,   0,   0,   0,   0,\n",
              "         0,   0,   0,   0,   0,   0,   0,   0,   0,   0,   0,   0,   0,\n",
              "         0,   0,   0,   0,   0,   0,   0,   0,   0,   0,   0,   0,   0,\n",
              "         0,   0,   0,   0,   0,   0,   0,   0,   0,   0,   0,   0,   0,\n",
              "         0,   0,   0,   0,   0,   0,   0,   0,   0,   0,   0,   0,   0,\n",
              "         0,   0,   0,   0,   0,   0,   0,   0,   0,   0,   0,   0,   0,\n",
              "         0,   0,   0,   0,   0,   0,   0,   0,   0,   0,   0,   0,   0,\n",
              "         0,   0,   0,   0,   0,   0,   0,   0,   0,   0,   0,   0,   0,\n",
              "         0,   0,   0,   0,   0,   0,  21,  56,  56,  21,  98, 255, 129,\n",
              "         0,   0,   0,   0,   0,   0,   0,   0,   0,   0,   0,   0,   0,\n",
              "         0,   0,   0,   0,   0,   0,   0, 120, 226, 253, 253, 226, 247,\n",
              "       253, 211,   0,   0,   0,   0,   0,   0,   0,   0,   0,   0,   0,\n",
              "         0,   0,   0,   0,   0,   0,   0,   0,   0, 214, 254, 253, 253,\n",
              "       254, 253, 253, 245,  49,   0,   0,   0,   0,   0,   0,   0,   0,\n",
              "         0,   0,   0,   0,   0,   0,   0,   0,   0,   0,   0,  74, 171,\n",
              "       174, 132,  58, 139, 247, 254, 198,  25,   0,   0,   0,   0,   0,\n",
              "         0,   0,   0,   0,   0,   0,   0,   0,   0,   0,   0,   0,   0,\n",
              "         0,   0,   0,   0,   0,   0,  81, 215, 253, 229,  19,   0,   0,\n",
              "         0,   0,   0,   0,   0,   0,   0,   0,   0,   0,   0,   0,   0,\n",
              "         0,   0,   0,   0,   0,   0,   0,   0,   9, 140, 253, 254,  64,\n",
              "         0,   0,   0,   0,   0,   0,   0,   0,   0,   0,   0,   0,   0,\n",
              "         0,   0,   0,   0,   0,   0,   0,   0,  21,  91, 204, 254, 253,\n",
              "       195,  18,   0,   0,   0,   0,   0,   0,   0,   0,   0,   0,   0,\n",
              "         0,   0,   0,   0,   0,  14,  96, 140, 139, 181, 243, 253, 253,\n",
              "       250, 182,  15,   0,   0,   0,   0,   0,   0,   0,   0,   0,   0,\n",
              "         0,   0,   0,   0,   0,   0,   0, 123, 254, 254, 254, 254, 254,\n",
              "       254, 227,  65,   0,   0,   0,   0,   0,   0,   0,   0,   0,   0,\n",
              "         0,   0,   0,   0,   0,   0,   0,   0,   0,  37, 198, 204, 203,\n",
              "       203, 235, 253, 252, 113,  15,   0,   0,   0,   0,   0,   0,   0,\n",
              "         0,   0,   0,   0,   0,   0,   0,   0,   0,   0,   0,   0,   0,\n",
              "         0,   0,   0,  31, 139, 252, 254, 187,  12,   0,   0,   0,   0,\n",
              "         0,   0,   0,   0,   0,   0,   0,   0,   0,   0,   0,   0,   0,\n",
              "         0,   0,   0,   0,   0,   0,   0,  63, 212, 253, 227,  16,   0,\n",
              "         0,   0,   0,   0,   0,   0,   0,   0,   0,   0,   0,   0,   0,\n",
              "         0,   0,   0,   0,   0,   0,   0,   0,   0,   0,  69, 214, 254,\n",
              "       153,   1,   0,   0,   0,   0,   0,   0,   0,   0,   0,   0,  35,\n",
              "       169,  78,   0,   0,   0,   0,   0,   0,   0,   0,   0,   0,   0,\n",
              "        80, 254, 253,   9,   0,   0,   0,   0,   0,   0,   0,   0,   0,\n",
              "         0, 111, 254, 155,   0,   0,   0,   0,   0,   0,   0,   0,   0,\n",
              "         0,   0,  81, 254, 254,   9,   0,   0,   0,   0,   0,   0,   0,\n",
              "         0,   0,   0, 111, 253, 248, 112,   8,   0,   0,   0,   0,   0,\n",
              "         0,   0,   0,   0,  80, 254, 253,   9,   0,   0,   0,   0,   0,\n",
              "         0,   0,   0,   0,   0,   9, 110, 249, 254, 224,  63,  16,   0,\n",
              "         0,   0,   0,   0,   0,   4, 143, 254, 241,   8,   0,   0,   0,\n",
              "         0,   0,   0,   0,   0,   0,   0,   0,   0,  56,  64, 200, 254,\n",
              "       218, 152,  91,  91,  91,  91,  91, 184, 253, 241,  67,   0,   0,\n",
              "         0,   0,   0,   0,   0,   0,   0,   0,   0,   0,   0,   0,   0,\n",
              "        96, 181, 233, 254, 254, 254, 254, 254, 254, 254, 239, 140,   0,\n",
              "         0,   0,   0,   0,   0,   0,   0,   0,   0,   0,   0,   0,   0,\n",
              "         0,   0,   0,   0,  30,  92, 153, 193, 177, 208, 153, 144,  37,\n",
              "         0,   0,   0,   0,   0,   0,   0,   0,   0,   0,   0,   0,   0,\n",
              "         0,   0,   0,   0,   0,   0,   0,   0,   0,   0,   0,   0,   0,\n",
              "         0,   0,   0,   0,   0,   0,   0,   0,   0,   0,   0,   0,   0,\n",
              "         0,   0,   0,   0,   0,   0,   0,   0,   0,   0,   0,   0,   0,\n",
              "         0,   0,   0,   0,   0,   0,   0,   0,   0,   0,   0,   0,   0,\n",
              "         0,   0,   0,   0,   0,   0,   0,   0,   0,   0,   0,   0,   0,\n",
              "         0,   0,   0,   0,   0,   0,   0,   0,   0,   0,   0,   0,   0,\n",
              "         0,   0,   0,   0,   0,   0,   0,   0,   0,   0,   0,   0,   0,\n",
              "         0,   0,   0,   0,   0,   0,   0,   0,   0,   0,   0,   0,   0,\n",
              "         0,   0,   0,   0], dtype=uint8)"
            ]
          },
          "metadata": {
            "tags": []
          },
          "execution_count": 8
        }
      ]
    },
    {
      "cell_type": "code",
      "metadata": {
        "id": "ezi_doA0ga8l",
        "colab": {
          "base_uri": "https://localhost:8080/"
        },
        "outputId": "09c1dc7d-262e-406b-fb30-ac3b4481454e"
      },
      "source": [
        "# All are numbers between 0 and 255:\n",
        "np.unique(X_train[4001])"
      ],
      "execution_count": null,
      "outputs": [
        {
          "output_type": "execute_result",
          "data": {
            "text/plain": [
              "array([  0,   1,   4,   8,   9,  12,  14,  15,  16,  18,  19,  21,  25,\n",
              "        30,  31,  35,  37,  49,  56,  58,  63,  64,  65,  67,  69,  74,\n",
              "        78,  80,  81,  91,  92,  96,  98, 110, 111, 112, 113, 120, 123,\n",
              "       129, 132, 139, 140, 143, 144, 152, 153, 155, 169, 171, 174, 177,\n",
              "       181, 182, 184, 187, 193, 195, 198, 200, 203, 204, 208, 211, 212,\n",
              "       214, 215, 218, 224, 226, 227, 229, 233, 235, 239, 241, 243, 245,\n",
              "       247, 248, 249, 250, 252, 253, 254, 255], dtype=uint8)"
            ]
          },
          "metadata": {
            "tags": []
          },
          "execution_count": 9
        }
      ]
    },
    {
      "cell_type": "markdown",
      "metadata": {
        "id": "8SqR5E6cjIi7"
      },
      "source": [
        "We must encode the labels for a classification task:"
      ]
    },
    {
      "cell_type": "code",
      "metadata": {
        "id": "MQ4ZSZPee9GV"
      },
      "source": [
        "from tensorflow.keras.utils import to_categorical"
      ],
      "execution_count": 6,
      "outputs": []
    },
    {
      "cell_type": "code",
      "metadata": {
        "id": "-6-VQCjlcDBV"
      },
      "source": [
        "y_train = to_categorical (y_train, num_classes=10, dtype= 'int')\n",
        "y_test = to_categorical (y_test, num_classes=10, dtype= 'int')"
      ],
      "execution_count": 7,
      "outputs": []
    },
    {
      "cell_type": "code",
      "metadata": {
        "colab": {
          "base_uri": "https://localhost:8080/"
        },
        "id": "hEaBu6qzcC8C",
        "outputId": "9533f30d-5551-4b48-ad4d-25cd9f7e2a0b"
      },
      "source": [
        "# The label of 800th image is 9, the one-hot encoded 9 is:\n",
        "y_train[800]"
      ],
      "execution_count": 10,
      "outputs": [
        {
          "output_type": "execute_result",
          "data": {
            "text/plain": [
              "array([0, 0, 0, 0, 0, 0, 0, 0, 0, 1])"
            ]
          },
          "metadata": {
            "tags": []
          },
          "execution_count": 10
        }
      ]
    },
    {
      "cell_type": "code",
      "metadata": {
        "colab": {
          "base_uri": "https://localhost:8080/"
        },
        "id": "Zvwhez1tiQsE",
        "outputId": "3a1db433-ede8-45ab-c782-ee9877db4f70"
      },
      "source": [
        "X_train.shape[0]"
      ],
      "execution_count": 9,
      "outputs": [
        {
          "output_type": "execute_result",
          "data": {
            "text/plain": [
              "60000"
            ]
          },
          "metadata": {
            "tags": []
          },
          "execution_count": 9
        }
      ]
    },
    {
      "cell_type": "markdown",
      "metadata": {
        "id": "WLcX9OCIj00X"
      },
      "source": [
        "In this notebook, we will flatten the data of the image and deal with it like a 1D array:"
      ]
    },
    {
      "cell_type": "code",
      "metadata": {
        "colab": {
          "base_uri": "https://localhost:8080/"
        },
        "id": "zX6s4sOAh4FI",
        "outputId": "b52da762-b279-4789-8f6e-19f04ccb2e9d"
      },
      "source": [
        "X_train = X_train.reshape ([X_train.shape[0], -1,])\n",
        "X_test = X_test.reshape ([X_test.shape[0], -1,])\n",
        "\n",
        "print (X_train.shape, X_test.shape )"
      ],
      "execution_count": 11,
      "outputs": [
        {
          "output_type": "stream",
          "text": [
            "(60000, 784) (10000, 784)\n"
          ],
          "name": "stdout"
        }
      ]
    },
    {
      "cell_type": "code",
      "metadata": {
        "id": "W7u1PjJdn9dM"
      },
      "source": [
        "# We always normalize the data before passing it to NN:\n",
        "X_train =  X_train/255\n",
        "X_test =  X_test/255"
      ],
      "execution_count": 12,
      "outputs": []
    },
    {
      "cell_type": "code",
      "metadata": {
        "colab": {
          "base_uri": "https://localhost:8080/"
        },
        "id": "k9VyyfqxoXGg",
        "outputId": "a8de18b3-d124-4cfb-dbee-ba1310a5be36"
      },
      "source": [
        "max(X_train[0])"
      ],
      "execution_count": 13,
      "outputs": [
        {
          "output_type": "execute_result",
          "data": {
            "text/plain": [
              "1.0"
            ]
          },
          "metadata": {
            "tags": []
          },
          "execution_count": 13
        }
      ]
    },
    {
      "cell_type": "markdown",
      "metadata": {
        "id": "njY2v_t2gltD"
      },
      "source": [
        "# Build a simple 1D NN model"
      ]
    },
    {
      "cell_type": "code",
      "metadata": {
        "colab": {
          "base_uri": "https://localhost:8080/"
        },
        "id": "D9yddSnsh2Xj",
        "outputId": "21940530-c407-4f03-e1bf-6507024a5ad1"
      },
      "source": [
        "X_train[0].shape"
      ],
      "execution_count": 14,
      "outputs": [
        {
          "output_type": "execute_result",
          "data": {
            "text/plain": [
              "(784,)"
            ]
          },
          "metadata": {
            "tags": []
          },
          "execution_count": 14
        }
      ]
    },
    {
      "cell_type": "code",
      "metadata": {
        "id": "KqEvRE8ecC2Q"
      },
      "source": [
        "import tensorflow as tf\n",
        "from tensorflow.keras.models import Sequential\n",
        "from tensorflow.keras.layers import Activation, Dense\n",
        "from tensorflow.keras import optimizers, regularizers\n",
        "\n",
        "from tensorflow.keras.utils import plot_model"
      ],
      "execution_count": 15,
      "outputs": []
    },
    {
      "cell_type": "code",
      "metadata": {
        "id": "ksi1M8LOgpi_"
      },
      "source": [
        "model = Sequential ([\n",
        "                     Dense(256, activation='relu', kernel_regularizer = regularizers.l2(1e-5), input_shape= (X_train[0].shape)), \n",
        "                     Dense(256, activation='relu', kernel_regularizer = regularizers.l2(1e-5)),\n",
        "                    #  Dense(128, activation='relu'),\n",
        "\n",
        "                     Dense(10, activation= 'softmax')\n",
        "])"
      ],
      "execution_count": null,
      "outputs": []
    },
    {
      "cell_type": "code",
      "metadata": {
        "colab": {
          "base_uri": "https://localhost:8080/"
        },
        "id": "2GKyQ3r3mbC3",
        "outputId": "f3672456-ca32-4ca8-a650-718aff7e43af"
      },
      "source": [
        "sgd = optimizers.SGD ()\n",
        "model.compile (optimizer= sgd, loss= 'categorical_crossentropy', metrics= ['accuracy'])\n",
        "\n",
        "history = model.fit (X_train, y_train, epochs=10, batch_size=64, validation_split=0.2, verbose=1)"
      ],
      "execution_count": null,
      "outputs": [
        {
          "output_type": "stream",
          "text": [
            "Epoch 1/10\n",
            "750/750 [==============================] - 3s 4ms/step - loss: 1.4675 - accuracy: 0.6150 - val_loss: 0.4336 - val_accuracy: 0.8880\n",
            "Epoch 2/10\n",
            "750/750 [==============================] - 3s 4ms/step - loss: 0.4247 - accuracy: 0.8867 - val_loss: 0.3334 - val_accuracy: 0.9085\n",
            "Epoch 3/10\n",
            "750/750 [==============================] - 3s 4ms/step - loss: 0.3433 - accuracy: 0.9049 - val_loss: 0.2930 - val_accuracy: 0.9209\n",
            "Epoch 4/10\n",
            "750/750 [==============================] - 3s 4ms/step - loss: 0.3029 - accuracy: 0.9156 - val_loss: 0.2677 - val_accuracy: 0.9269\n",
            "Epoch 5/10\n",
            "750/750 [==============================] - 3s 4ms/step - loss: 0.2766 - accuracy: 0.9242 - val_loss: 0.2510 - val_accuracy: 0.9302\n",
            "Epoch 6/10\n",
            "750/750 [==============================] - 3s 4ms/step - loss: 0.2608 - accuracy: 0.9274 - val_loss: 0.2334 - val_accuracy: 0.9344\n",
            "Epoch 7/10\n",
            "750/750 [==============================] - 3s 4ms/step - loss: 0.2346 - accuracy: 0.9351 - val_loss: 0.2206 - val_accuracy: 0.9401\n",
            "Epoch 8/10\n",
            "750/750 [==============================] - 3s 4ms/step - loss: 0.2173 - accuracy: 0.9407 - val_loss: 0.2098 - val_accuracy: 0.9447\n",
            "Epoch 9/10\n",
            "750/750 [==============================] - 3s 4ms/step - loss: 0.2060 - accuracy: 0.9428 - val_loss: 0.2009 - val_accuracy: 0.9472\n",
            "Epoch 10/10\n",
            "750/750 [==============================] - 3s 4ms/step - loss: 0.1974 - accuracy: 0.9467 - val_loss: 0.1895 - val_accuracy: 0.9492\n"
          ],
          "name": "stdout"
        }
      ]
    },
    {
      "cell_type": "markdown",
      "metadata": {
        "id": "ITn8myqQkIb7"
      },
      "source": [
        "Have a look at learning curves till now:\n"
      ]
    },
    {
      "cell_type": "code",
      "metadata": {
        "colab": {
          "base_uri": "https://localhost:8080/",
          "height": 283
        },
        "id": "dpqRcCJ6p10R",
        "outputId": "10882efa-7eae-44af-b003-5a583ffc8056"
      },
      "source": [
        "plt.plot (history.history['loss'])\n",
        "plt.plot (history.history['val_loss'])"
      ],
      "execution_count": null,
      "outputs": [
        {
          "output_type": "execute_result",
          "data": {
            "text/plain": [
              "[<matplotlib.lines.Line2D at 0x7f0a28783c90>]"
            ]
          },
          "metadata": {
            "tags": []
          },
          "execution_count": 38
        },
        {
          "output_type": "display_data",
          "data": {
            "image/png": "[encoded data removed]",
            "text/plain": [
              "<Figure size 432x288 with 1 Axes>"
            ]
          },
          "metadata": {
            "tags": [],
            "needs_background": "light"
          }
        }
      ]
    },
    {
      "cell_type": "code",
      "metadata": {
        "colab": {
          "base_uri": "https://localhost:8080/",
          "height": 283
        },
        "id": "53rRYjZematw",
        "outputId": "f16021af-a596-422c-d4c1-4f105469b34b"
      },
      "source": [
        "plt.plot (history.history['accuracy'])\n",
        "plt.plot (history.history['val_accuracy'])"
      ],
      "execution_count": null,
      "outputs": [
        {
          "output_type": "execute_result",
          "data": {
            "text/plain": [
              "[<matplotlib.lines.Line2D at 0x7f0a28739c50>]"
            ]
          },
          "metadata": {
            "tags": []
          },
          "execution_count": 39
        },
        {
          "output_type": "display_data",
          "data": {
            "image/png": "[encoded data removed]",
            "text/plain": [
              "<Figure size 432x288 with 1 Axes>"
            ]
          },
          "metadata": {
            "tags": [],
            "needs_background": "light"
          }
        }
      ]
    },
    {
      "cell_type": "code",
      "metadata": {
        "colab": {
          "base_uri": "https://localhost:8080/",
          "height": 283
        },
        "id": "Amz5usyOmMtO",
        "outputId": "57d0d21d-b532-4b08-c9b8-769c98bf24cb"
      },
      "source": [
        "plt.imshow (X_test[0].reshape ((28,28)))"
      ],
      "execution_count": null,
      "outputs": [
        {
          "output_type": "execute_result",
          "data": {
            "text/plain": [
              "<matplotlib.image.AxesImage at 0x7f848f3ef250>"
            ]
          },
          "metadata": {
            "tags": []
          },
          "execution_count": 97
        },
        {
          "output_type": "display_data",
          "data": {
            "image/png": "[encoded data removed]",
            "text/plain": [
              "<Figure size 432x288 with 1 Axes>"
            ]
          },
          "metadata": {
            "tags": [],
            "needs_background": "light"
          }
        }
      ]
    },
    {
      "cell_type": "code",
      "metadata": {
        "colab": {
          "base_uri": "https://localhost:8080/"
        },
        "id": "_HyuPzy2gpdG",
        "outputId": "ba555cb2-6d49-4728-ff5b-d17762bbf58f"
      },
      "source": [
        "# various ways of printing a variable:\n",
        "print(f'the predicted label is: {np.argmax (model.predict (X_test[:5])[0])}')\n",
        "print('the predicted label is: {}'.format (np.argmax (model.predict (X_test[:5])[0])))\n"
      ],
      "execution_count": null,
      "outputs": [
        {
          "output_type": "stream",
          "text": [
            "the predicted label is: 2\n",
            "the predicted label is: 2\n"
          ],
          "name": "stdout"
        }
      ]
    },
    {
      "cell_type": "markdown",
      "metadata": {
        "id": "xq9RCb8DkjYx"
      },
      "source": [
        "The image and the predicted labels of 0th image are not compatible. So our model is not learned yet!"
      ]
    },
    {
      "cell_type": "code",
      "metadata": {
        "colab": {
          "base_uri": "https://localhost:8080/"
        },
        "id": "5Mekc2i0cCwo",
        "outputId": "9fa52dd9-26a5-457e-b634-f6925a926ef8"
      },
      "source": [
        "# Have a look at some predicted labels:\n",
        "model.predict (X_test[:5])"
      ],
      "execution_count": null,
      "outputs": [
        {
          "output_type": "execute_result",
          "data": {
            "text/plain": [
              "array([[0.0000000e+00, 0.0000000e+00, 1.0000000e+00, 0.0000000e+00,\n",
              "        0.0000000e+00, 0.0000000e+00, 0.0000000e+00, 0.0000000e+00,\n",
              "        0.0000000e+00, 5.3727937e-13],\n",
              "       [0.0000000e+00, 0.0000000e+00, 2.2211962e-21, 0.0000000e+00,\n",
              "        0.0000000e+00, 0.0000000e+00, 0.0000000e+00, 9.9992645e-01,\n",
              "        0.0000000e+00, 7.3598290e-05],\n",
              "       [7.2513467e-05, 5.4246529e-27, 0.0000000e+00, 0.0000000e+00,\n",
              "        9.1327578e-01, 0.0000000e+00, 2.2292047e-12, 8.6651750e-02,\n",
              "        0.0000000e+00, 1.4629088e-18],\n",
              "       [9.2549856e-23, 0.0000000e+00, 3.3123115e-32, 0.0000000e+00,\n",
              "        0.0000000e+00, 0.0000000e+00, 0.0000000e+00, 4.5630018e-34,\n",
              "        0.0000000e+00, 1.0000000e+00],\n",
              "       [0.0000000e+00, 0.0000000e+00, 0.0000000e+00, 0.0000000e+00,\n",
              "        0.0000000e+00, 0.0000000e+00, 0.0000000e+00, 2.5764343e-17,\n",
              "        0.0000000e+00, 1.0000000e+00]], dtype=float32)"
            ]
          },
          "metadata": {
            "tags": []
          },
          "execution_count": 92
        }
      ]
    },
    {
      "cell_type": "code",
      "metadata": {
        "colab": {
          "base_uri": "https://localhost:8080/"
        },
        "id": "WFf12UEVcCo8",
        "outputId": "82e8a4d5-29b2-402f-9538-6f349e936320"
      },
      "source": [
        "model.evaluate (X_test, y_test, verbose=0)"
      ],
      "execution_count": null,
      "outputs": [
        {
          "output_type": "execute_result",
          "data": {
            "text/plain": [
              "[0.18741962313652039, 0.9487000107765198]"
            ]
          },
          "metadata": {
            "tags": []
          },
          "execution_count": 41
        }
      ]
    },
    {
      "cell_type": "markdown",
      "metadata": {
        "id": "C5Qb5QUnBZe4"
      },
      "source": [
        "##  Using tensorboard"
      ]
    },
    {
      "cell_type": "code",
      "metadata": {
        "id": "NP_rJuU0e9DO"
      },
      "source": [
        "import time\n",
        "from tensorflow.keras.callbacks import TensorBoard\n",
        "\n",
        "%load_ext tensorboard"
      ],
      "execution_count": null,
      "outputs": []
    },
    {
      "cell_type": "code",
      "metadata": {
        "id": "TqeVNsIcfDGD"
      },
      "source": [
        "tensorboard_callback = TensorBoard(log_dir= f\"logs/{1}_{time.time()}\", histogram_freq=1)"
      ],
      "execution_count": null,
      "outputs": []
    },
    {
      "cell_type": "code",
      "metadata": {
        "id": "5G7j3Bzte9xX"
      },
      "source": [
        "%tensorboard --logdir logs"
      ],
      "execution_count": null,
      "outputs": []
    },
    {
      "cell_type": "code",
      "metadata": {
        "id": "7HrND399Bg6L"
      },
      "source": [
        ""
      ],
      "execution_count": null,
      "outputs": []
    },
    {
      "cell_type": "code",
      "metadata": {
        "id": "D6YzkP0efCzQ"
      },
      "source": [
        ""
      ],
      "execution_count": null,
      "outputs": []
    }
  ]
}